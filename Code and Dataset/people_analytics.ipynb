{
  "nbformat": 4,
  "nbformat_minor": 0,
  "metadata": {
    "colab": {
      "name": "Teste_rocketmat.ipynb",
      "provenance": [],
      "collapsed_sections": []
    },
    "kernelspec": {
      "name": "python3",
      "display_name": "Python 3"
    }
  },
  "cells": [
    {
      "cell_type": "markdown",
      "metadata": {
        "id": "WvKeNKCDDEGX",
        "colab_type": "text"
      },
      "source": [
        "#Introdução"
      ]
    },
    {
      "cell_type": "markdown",
      "metadata": {
        "id": "fMbtUDMzDGHq",
        "colab_type": "text"
      },
      "source": [
        "A tecnologia se faz presente em diversas áreas do conhecimento, dentre elas está a área de Recursos Humanos. Muitas empresas haviam os dados, mas não sabiam o que fazer com estes dados, então se criou a metodologia do People Analytics.\n",
        "\n",
        "Essa metodologia tem por objetivo principal tornar a gestão de pessoas mais eficaz. Trocando em miúdos, seria analisar os dados de forma estratégica para uma melhor contratação, promoção e dispensa de funcionários, bem como contribuir na produtividade da empresa e tomar melhores decisões."
      ]
    },
    {
      "cell_type": "markdown",
      "metadata": {
        "id": "LPIjpXvAbQvs",
        "colab_type": "text"
      },
      "source": [
        "# Objetivo do projeto"
      ]
    },
    {
      "cell_type": "markdown",
      "metadata": {
        "id": "f1VrXbtObStN",
        "colab_type": "text"
      },
      "source": [
        "Este projeto tem como objetivo fazer uma análise do dataset: [Expanded HR Analytics Data Lab](https://www.kaggle.com/krismurphy01/data-lab) e explicar quais as principais informações e como elas se relacionam. Tirar conclusões em cada passo da análise e deixar claro as expectativas com essa análise.\n",
        "\n",
        "Além disso, enumerar possíveis problemas que podem ser resolvidos utilizando Machine Learning e construir modelos passo-a-passo mostrando a decisão de features, labels e experimentações serão mostrados neste Notebook."
      ]
    },
    {
      "cell_type": "markdown",
      "metadata": {
        "id": "Ikd3lCwM0XcY",
        "colab_type": "text"
      },
      "source": [
        "# Importando bibliotecas"
      ]
    },
    {
      "cell_type": "code",
      "metadata": {
        "id": "bmYpDXAL0M5v",
        "colab_type": "code",
        "colab": {
          "base_uri": "https://localhost:8080/",
          "height": 71
        },
        "outputId": "c53c7a4e-fa2c-49a7-ed56-e636db519792"
      },
      "source": [
        "import pandas as pd\n",
        "import numpy as np\n",
        "import matplotlib.pyplot as plt\n",
        "import seaborn as sns\n",
        "from sklearn.model_selection import train_test_split, cross_val_score, StratifiedKFold\n",
        "from sklearn.metrics import accuracy_score, confusion_matrix\n",
        "from sklearn.preprocessing import StandardScaler, LabelEncoder\n",
        "from sklearn.pipeline import Pipeline\n",
        "from scipy import stats\n",
        "from statsmodels.stats import weightstats as stests\n",
        "\n",
        "import warnings\n",
        "warnings.filterwarnings(\"ignore\")\n",
        "%matplotlib inline"
      ],
      "execution_count": 1,
      "outputs": [
        {
          "output_type": "stream",
          "text": [
            "/usr/local/lib/python3.6/dist-packages/statsmodels/tools/_testing.py:19: FutureWarning: pandas.util.testing is deprecated. Use the functions in the public API at pandas.testing instead.\n",
            "  import pandas.util.testing as tm\n"
          ],
          "name": "stderr"
        }
      ]
    },
    {
      "cell_type": "markdown",
      "metadata": {
        "id": "64ZPTQB70j_m",
        "colab_type": "text"
      },
      "source": [
        "# Carregando e lendo os dados"
      ]
    },
    {
      "cell_type": "code",
      "metadata": {
        "id": "nDcMSYKM0hUr",
        "colab_type": "code",
        "colab": {
          "base_uri": "https://localhost:8080/",
          "height": 292
        },
        "outputId": "2fd0e988-3a62-403b-9841-8879cefda5af"
      },
      "source": [
        "data = pd.read_csv('HR_Engagement_Sat_Sales_UpdatedV4.0.csv')\n",
        "data.head()"
      ],
      "execution_count": 2,
      "outputs": [
        {
          "output_type": "execute_result",
          "data": {
            "text/html": [
              "<div>\n",
              "<style scoped>\n",
              "    .dataframe tbody tr th:only-of-type {\n",
              "        vertical-align: middle;\n",
              "    }\n",
              "\n",
              "    .dataframe tbody tr th {\n",
              "        vertical-align: top;\n",
              "    }\n",
              "\n",
              "    .dataframe thead th {\n",
              "        text-align: right;\n",
              "    }\n",
              "</style>\n",
              "<table border=\"1\" class=\"dataframe\">\n",
              "  <thead>\n",
              "    <tr style=\"text-align: right;\">\n",
              "      <th></th>\n",
              "      <th>ID</th>\n",
              "      <th>Name</th>\n",
              "      <th>Department</th>\n",
              "      <th>GEO</th>\n",
              "      <th>Role</th>\n",
              "      <th>Rising_Star</th>\n",
              "      <th>Will_Relocate</th>\n",
              "      <th>Critical</th>\n",
              "      <th>Trending Perf</th>\n",
              "      <th>Talent_Level</th>\n",
              "      <th>Validated_Talent_Level</th>\n",
              "      <th>Percent_Remote</th>\n",
              "      <th>EMP_Sat_OnPrem_1</th>\n",
              "      <th>EMP_Sat_OnPrem_2</th>\n",
              "      <th>EMP_Sat_OnPrem_3</th>\n",
              "      <th>EMP_Sat_OnPrem_4</th>\n",
              "      <th>EMP_Sat_OnPrem_5</th>\n",
              "      <th>EMP_Sat_Remote_1</th>\n",
              "      <th>EMP_Sat_Remote_2</th>\n",
              "      <th>EMP_Sat_Remote_3</th>\n",
              "      <th>EMP_Sat_Remote_4</th>\n",
              "      <th>EMP_Sat_Remote_5</th>\n",
              "      <th>EMP_Engagement_1</th>\n",
              "      <th>EMP_Engagement_2</th>\n",
              "      <th>EMP_Engagement_3</th>\n",
              "      <th>EMP_Engagement_4</th>\n",
              "      <th>EMP_Engagement_5</th>\n",
              "      <th>last_evaluation</th>\n",
              "      <th>number_project</th>\n",
              "      <th>average_montly_hours</th>\n",
              "      <th>time_spend_company</th>\n",
              "      <th>Work_accident</th>\n",
              "      <th>left_Company</th>\n",
              "      <th>CSR Factor</th>\n",
              "      <th>promotion_last_5years</th>\n",
              "      <th>sales</th>\n",
              "      <th>salary</th>\n",
              "      <th>Gender</th>\n",
              "      <th>LinkedIn_Hits</th>\n",
              "      <th>Emp_Work_Status2</th>\n",
              "      <th>Emp_Work_Status_3</th>\n",
              "      <th>Emp_Work_Status_4</th>\n",
              "      <th>Emp_Work_Status_5</th>\n",
              "      <th>Emp_Identity</th>\n",
              "      <th>Emp_Role</th>\n",
              "      <th>Emp_Position</th>\n",
              "      <th>Emp_Title</th>\n",
              "      <th>Women_Leave</th>\n",
              "      <th>Men_Leave</th>\n",
              "      <th>Emp_Competitive_1</th>\n",
              "      <th>Emp_Competitive_2</th>\n",
              "      <th>Emp_Competitive_3</th>\n",
              "      <th>Emp_Competitive_4</th>\n",
              "      <th>Emp_Competitive_5</th>\n",
              "      <th>Emp_Collaborative_1</th>\n",
              "      <th>Emp_Collaborative_2</th>\n",
              "      <th>Emp_Collaborative_3</th>\n",
              "      <th>Emp_Collaborative_4</th>\n",
              "      <th>Emp_Collaborative_5</th>\n",
              "      <th>Sensor_StepCount</th>\n",
              "      <th>Sensor_Heartbeat(Average/Min)</th>\n",
              "      <th>Sensor_Proximity(1-highest/10-lowest)</th>\n",
              "    </tr>\n",
              "  </thead>\n",
              "  <tbody>\n",
              "    <tr>\n",
              "      <th>0</th>\n",
              "      <td>1</td>\n",
              "      <td>BRADDY</td>\n",
              "      <td>Operations</td>\n",
              "      <td>US</td>\n",
              "      <td>VP</td>\n",
              "      <td>NaN</td>\n",
              "      <td>0</td>\n",
              "      <td>1.0</td>\n",
              "      <td>3</td>\n",
              "      <td>6</td>\n",
              "      <td>6</td>\n",
              "      <td>0.4</td>\n",
              "      <td>3.0</td>\n",
              "      <td>3.0</td>\n",
              "      <td>4.0</td>\n",
              "      <td>3.0</td>\n",
              "      <td>5.0</td>\n",
              "      <td>2</td>\n",
              "      <td>3</td>\n",
              "      <td>2</td>\n",
              "      <td>3</td>\n",
              "      <td>2</td>\n",
              "      <td>5</td>\n",
              "      <td>5</td>\n",
              "      <td>4</td>\n",
              "      <td>4</td>\n",
              "      <td>3</td>\n",
              "      <td>0.36</td>\n",
              "      <td>3</td>\n",
              "      <td>168</td>\n",
              "      <td>3</td>\n",
              "      <td>1</td>\n",
              "      <td>0</td>\n",
              "      <td>NaN</td>\n",
              "      <td>0</td>\n",
              "      <td>sales</td>\n",
              "      <td>low</td>\n",
              "      <td>M</td>\n",
              "      <td>5</td>\n",
              "      <td>4</td>\n",
              "      <td>3</td>\n",
              "      <td>1</td>\n",
              "      <td>1</td>\n",
              "      <td>1</td>\n",
              "      <td>1</td>\n",
              "      <td>2</td>\n",
              "      <td>1</td>\n",
              "      <td>NaN</td>\n",
              "      <td>1.0</td>\n",
              "      <td>2</td>\n",
              "      <td>4</td>\n",
              "      <td>2</td>\n",
              "      <td>2</td>\n",
              "      <td>2</td>\n",
              "      <td>2</td>\n",
              "      <td>2</td>\n",
              "      <td>2</td>\n",
              "      <td>1</td>\n",
              "      <td>5</td>\n",
              "      <td>1841</td>\n",
              "      <td>61</td>\n",
              "      <td>9</td>\n",
              "    </tr>\n",
              "    <tr>\n",
              "      <th>1</th>\n",
              "      <td>2</td>\n",
              "      <td>BORST</td>\n",
              "      <td>Sales</td>\n",
              "      <td>UK</td>\n",
              "      <td>Senior Director</td>\n",
              "      <td>NaN</td>\n",
              "      <td>0</td>\n",
              "      <td>NaN</td>\n",
              "      <td>3</td>\n",
              "      <td>6</td>\n",
              "      <td>6</td>\n",
              "      <td>0.4</td>\n",
              "      <td>3.0</td>\n",
              "      <td>3.0</td>\n",
              "      <td>4.0</td>\n",
              "      <td>3.0</td>\n",
              "      <td>5.0</td>\n",
              "      <td>2</td>\n",
              "      <td>3</td>\n",
              "      <td>2</td>\n",
              "      <td>3</td>\n",
              "      <td>2</td>\n",
              "      <td>5</td>\n",
              "      <td>5</td>\n",
              "      <td>4</td>\n",
              "      <td>4</td>\n",
              "      <td>3</td>\n",
              "      <td>0.36</td>\n",
              "      <td>5</td>\n",
              "      <td>159</td>\n",
              "      <td>2</td>\n",
              "      <td>0</td>\n",
              "      <td>0</td>\n",
              "      <td>NaN</td>\n",
              "      <td>0</td>\n",
              "      <td>accounting</td>\n",
              "      <td>low</td>\n",
              "      <td>F</td>\n",
              "      <td>58</td>\n",
              "      <td>3</td>\n",
              "      <td>3</td>\n",
              "      <td>4</td>\n",
              "      <td>3</td>\n",
              "      <td>2</td>\n",
              "      <td>1</td>\n",
              "      <td>2</td>\n",
              "      <td>1</td>\n",
              "      <td>0.0</td>\n",
              "      <td>NaN</td>\n",
              "      <td>2</td>\n",
              "      <td>2</td>\n",
              "      <td>1</td>\n",
              "      <td>4</td>\n",
              "      <td>1</td>\n",
              "      <td>3</td>\n",
              "      <td>2</td>\n",
              "      <td>5</td>\n",
              "      <td>1</td>\n",
              "      <td>5</td>\n",
              "      <td>1990</td>\n",
              "      <td>90</td>\n",
              "      <td>8</td>\n",
              "    </tr>\n",
              "    <tr>\n",
              "      <th>2</th>\n",
              "      <td>3</td>\n",
              "      <td>BIRDWELL</td>\n",
              "      <td>Finance</td>\n",
              "      <td>France</td>\n",
              "      <td>Senior Director</td>\n",
              "      <td>NaN</td>\n",
              "      <td>0</td>\n",
              "      <td>NaN</td>\n",
              "      <td>3</td>\n",
              "      <td>6</td>\n",
              "      <td>6</td>\n",
              "      <td>0.4</td>\n",
              "      <td>3.0</td>\n",
              "      <td>3.0</td>\n",
              "      <td>4.0</td>\n",
              "      <td>3.0</td>\n",
              "      <td>5.0</td>\n",
              "      <td>2</td>\n",
              "      <td>3</td>\n",
              "      <td>2</td>\n",
              "      <td>3</td>\n",
              "      <td>2</td>\n",
              "      <td>5</td>\n",
              "      <td>5</td>\n",
              "      <td>4</td>\n",
              "      <td>4</td>\n",
              "      <td>3</td>\n",
              "      <td>0.36</td>\n",
              "      <td>2</td>\n",
              "      <td>282</td>\n",
              "      <td>3</td>\n",
              "      <td>0</td>\n",
              "      <td>0</td>\n",
              "      <td>NaN</td>\n",
              "      <td>0</td>\n",
              "      <td>product_mng</td>\n",
              "      <td>medium</td>\n",
              "      <td>F</td>\n",
              "      <td>42</td>\n",
              "      <td>2</td>\n",
              "      <td>4</td>\n",
              "      <td>1</td>\n",
              "      <td>3</td>\n",
              "      <td>1</td>\n",
              "      <td>1</td>\n",
              "      <td>2</td>\n",
              "      <td>2</td>\n",
              "      <td>1.0</td>\n",
              "      <td>NaN</td>\n",
              "      <td>1</td>\n",
              "      <td>5</td>\n",
              "      <td>1</td>\n",
              "      <td>2</td>\n",
              "      <td>5</td>\n",
              "      <td>2</td>\n",
              "      <td>2</td>\n",
              "      <td>4</td>\n",
              "      <td>4</td>\n",
              "      <td>4</td>\n",
              "      <td>3193</td>\n",
              "      <td>80</td>\n",
              "      <td>8</td>\n",
              "    </tr>\n",
              "    <tr>\n",
              "      <th>3</th>\n",
              "      <td>4</td>\n",
              "      <td>BENT</td>\n",
              "      <td>Human Resources</td>\n",
              "      <td>China</td>\n",
              "      <td>Senior Director</td>\n",
              "      <td>NaN</td>\n",
              "      <td>0</td>\n",
              "      <td>NaN</td>\n",
              "      <td>3</td>\n",
              "      <td>6</td>\n",
              "      <td>6</td>\n",
              "      <td>0.4</td>\n",
              "      <td>3.0</td>\n",
              "      <td>3.0</td>\n",
              "      <td>4.0</td>\n",
              "      <td>3.0</td>\n",
              "      <td>5.0</td>\n",
              "      <td>2</td>\n",
              "      <td>3</td>\n",
              "      <td>2</td>\n",
              "      <td>3</td>\n",
              "      <td>2</td>\n",
              "      <td>5</td>\n",
              "      <td>5</td>\n",
              "      <td>4</td>\n",
              "      <td>4</td>\n",
              "      <td>3</td>\n",
              "      <td>0.36</td>\n",
              "      <td>4</td>\n",
              "      <td>278</td>\n",
              "      <td>4</td>\n",
              "      <td>1</td>\n",
              "      <td>0</td>\n",
              "      <td>NaN</td>\n",
              "      <td>0</td>\n",
              "      <td>product_mng</td>\n",
              "      <td>high</td>\n",
              "      <td>M</td>\n",
              "      <td>37</td>\n",
              "      <td>3</td>\n",
              "      <td>1</td>\n",
              "      <td>4</td>\n",
              "      <td>5</td>\n",
              "      <td>2</td>\n",
              "      <td>1</td>\n",
              "      <td>2</td>\n",
              "      <td>1</td>\n",
              "      <td>NaN</td>\n",
              "      <td>1.0</td>\n",
              "      <td>1</td>\n",
              "      <td>1</td>\n",
              "      <td>2</td>\n",
              "      <td>5</td>\n",
              "      <td>1</td>\n",
              "      <td>1</td>\n",
              "      <td>2</td>\n",
              "      <td>4</td>\n",
              "      <td>4</td>\n",
              "      <td>1</td>\n",
              "      <td>3248</td>\n",
              "      <td>77</td>\n",
              "      <td>6</td>\n",
              "    </tr>\n",
              "    <tr>\n",
              "      <th>4</th>\n",
              "      <td>5</td>\n",
              "      <td>BAZAN</td>\n",
              "      <td>IT</td>\n",
              "      <td>Korea</td>\n",
              "      <td>Director</td>\n",
              "      <td>NaN</td>\n",
              "      <td>0</td>\n",
              "      <td>NaN</td>\n",
              "      <td>3</td>\n",
              "      <td>6</td>\n",
              "      <td>6</td>\n",
              "      <td>0.4</td>\n",
              "      <td>3.0</td>\n",
              "      <td>3.0</td>\n",
              "      <td>4.0</td>\n",
              "      <td>3.0</td>\n",
              "      <td>5.0</td>\n",
              "      <td>2</td>\n",
              "      <td>3</td>\n",
              "      <td>2</td>\n",
              "      <td>3</td>\n",
              "      <td>2</td>\n",
              "      <td>5</td>\n",
              "      <td>5</td>\n",
              "      <td>4</td>\n",
              "      <td>4</td>\n",
              "      <td>3</td>\n",
              "      <td>0.36</td>\n",
              "      <td>6</td>\n",
              "      <td>256</td>\n",
              "      <td>5</td>\n",
              "      <td>0</td>\n",
              "      <td>0</td>\n",
              "      <td>NaN</td>\n",
              "      <td>0</td>\n",
              "      <td>sales</td>\n",
              "      <td>low</td>\n",
              "      <td>F</td>\n",
              "      <td>6</td>\n",
              "      <td>4</td>\n",
              "      <td>5</td>\n",
              "      <td>4</td>\n",
              "      <td>5</td>\n",
              "      <td>1</td>\n",
              "      <td>1</td>\n",
              "      <td>2</td>\n",
              "      <td>1</td>\n",
              "      <td>1.0</td>\n",
              "      <td>NaN</td>\n",
              "      <td>1</td>\n",
              "      <td>4</td>\n",
              "      <td>1</td>\n",
              "      <td>5</td>\n",
              "      <td>3</td>\n",
              "      <td>5</td>\n",
              "      <td>1</td>\n",
              "      <td>2</td>\n",
              "      <td>5</td>\n",
              "      <td>4</td>\n",
              "      <td>3149</td>\n",
              "      <td>80</td>\n",
              "      <td>10</td>\n",
              "    </tr>\n",
              "  </tbody>\n",
              "</table>\n",
              "</div>"
            ],
            "text/plain": [
              "   ID  ... Sensor_Proximity(1-highest/10-lowest)\n",
              "0   1  ...                                     9\n",
              "1   2  ...                                     8\n",
              "2   3  ...                                     8\n",
              "3   4  ...                                     6\n",
              "4   5  ...                                    10\n",
              "\n",
              "[5 rows x 62 columns]"
            ]
          },
          "metadata": {
            "tags": []
          },
          "execution_count": 2
        }
      ]
    },
    {
      "cell_type": "markdown",
      "metadata": {
        "id": "ZjBmgf0l1Ttj",
        "colab_type": "text"
      },
      "source": [
        "# EDA e Pré - Processamento dos dados\n",
        "Análise exploratória de dados etapas do pré processamento de dados"
      ]
    },
    {
      "cell_type": "code",
      "metadata": {
        "id": "AWZ5I2ue0514",
        "colab_type": "code",
        "colab": {
          "base_uri": "https://localhost:8080/",
          "height": 1000
        },
        "outputId": "12167114-8ff8-4b4c-826c-094902a6caca"
      },
      "source": [
        "data.info()"
      ],
      "execution_count": 3,
      "outputs": [
        {
          "output_type": "stream",
          "text": [
            "<class 'pandas.core.frame.DataFrame'>\n",
            "RangeIndex: 14999 entries, 0 to 14998\n",
            "Data columns (total 62 columns):\n",
            " #   Column                                 Non-Null Count  Dtype  \n",
            "---  ------                                 --------------  -----  \n",
            " 0   ID                                     14999 non-null  int64  \n",
            " 1   Name                                   14997 non-null  object \n",
            " 2   Department                             14999 non-null  object \n",
            " 3   GEO                                    14999 non-null  object \n",
            " 4   Role                                   14999 non-null  object \n",
            " 5   Rising_Star                            21 non-null     float64\n",
            " 6   Will_Relocate                          14999 non-null  int64  \n",
            " 7   Critical                               480 non-null    float64\n",
            " 8   Trending Perf                          14999 non-null  int64  \n",
            " 9   Talent_Level                           14999 non-null  int64  \n",
            " 10  Validated_Talent_Level                 14999 non-null  int64  \n",
            " 11  Percent_Remote                         14999 non-null  float64\n",
            " 12  EMP_Sat_OnPrem_1                       14871 non-null  float64\n",
            " 13  EMP_Sat_OnPrem_2                       14871 non-null  float64\n",
            " 14  EMP_Sat_OnPrem_3                       14871 non-null  float64\n",
            " 15  EMP_Sat_OnPrem_4                       14871 non-null  float64\n",
            " 16  EMP_Sat_OnPrem_5                       14871 non-null  float64\n",
            " 17  EMP_Sat_Remote_1                       14999 non-null  int64  \n",
            " 18  EMP_Sat_Remote_2                       14999 non-null  int64  \n",
            " 19  EMP_Sat_Remote_3                       14999 non-null  int64  \n",
            " 20  EMP_Sat_Remote_4                       14999 non-null  int64  \n",
            " 21  EMP_Sat_Remote_5                       14999 non-null  int64  \n",
            " 22  EMP_Engagement_1                       14999 non-null  int64  \n",
            " 23  EMP_Engagement_2                       14999 non-null  int64  \n",
            " 24  EMP_Engagement_3                       14999 non-null  int64  \n",
            " 25  EMP_Engagement_4                       14999 non-null  int64  \n",
            " 26  EMP_Engagement_5                       14999 non-null  int64  \n",
            " 27  last_evaluation                        14999 non-null  float64\n",
            " 28  number_project                         14999 non-null  int64  \n",
            " 29  average_montly_hours                   14999 non-null  int64  \n",
            " 30  time_spend_company                     14999 non-null  int64  \n",
            " 31  Work_accident                          14999 non-null  int64  \n",
            " 32  left_Company                           14999 non-null  int64  \n",
            " 33  CSR Factor                             1713 non-null   float64\n",
            " 34  promotion_last_5years                  14999 non-null  int64  \n",
            " 35  sales                                  14999 non-null  object \n",
            " 36  salary                                 14999 non-null  object \n",
            " 37  Gender                                 14999 non-null  object \n",
            " 38  LinkedIn_Hits                          14999 non-null  int64  \n",
            " 39  Emp_Work_Status2                       14999 non-null  int64  \n",
            " 40  Emp_Work_Status_3                      14999 non-null  int64  \n",
            " 41  Emp_Work_Status_4                      14999 non-null  int64  \n",
            " 42  Emp_Work_Status_5                      14999 non-null  int64  \n",
            " 43  Emp_Identity                           14999 non-null  int64  \n",
            " 44  Emp_Role                               14999 non-null  int64  \n",
            " 45  Emp_Position                           14999 non-null  int64  \n",
            " 46  Emp_Title                              14999 non-null  int64  \n",
            " 47  Women_Leave                            7596 non-null   float64\n",
            " 48  Men_Leave                              4865 non-null   float64\n",
            " 49  Emp_Competitive_1                      14999 non-null  int64  \n",
            " 50  Emp_Competitive_2                      14999 non-null  int64  \n",
            " 51  Emp_Competitive_3                      14999 non-null  int64  \n",
            " 52  Emp_Competitive_4                      14999 non-null  int64  \n",
            " 53  Emp_Competitive_5                      14999 non-null  int64  \n",
            " 54  Emp_Collaborative_1                    14999 non-null  int64  \n",
            " 55  Emp_Collaborative_2                    14999 non-null  int64  \n",
            " 56  Emp_Collaborative_3                    14999 non-null  int64  \n",
            " 57  Emp_Collaborative_4                    14999 non-null  int64  \n",
            " 58  Emp_Collaborative_5                    14999 non-null  int64  \n",
            " 59  Sensor_StepCount                       14999 non-null  int64  \n",
            " 60  Sensor_Heartbeat(Average/Min)          14999 non-null  int64  \n",
            " 61  Sensor_Proximity(1-highest/10-lowest)  14999 non-null  int64  \n",
            "dtypes: float64(12), int64(43), object(7)\n",
            "memory usage: 7.1+ MB\n"
          ],
          "name": "stdout"
        }
      ]
    },
    {
      "cell_type": "markdown",
      "metadata": {
        "id": "IcsGLU8e2ctU",
        "colab_type": "text"
      },
      "source": [
        "Por meio da função \".info()\" já podemos obter várias informações a respeito do Dataset. Ele nos mostra a quantidade de valores não nulos de cada coluna, os tipos das colunas e o total de linhas e colunas (14999 e 62, respectivamente).\n",
        "\n",
        "As colunas que mais chamam atenção são \"Rising_Star\", \"Critical\", \"CSR Factor\", \"Women_Leave\" e \"Men_Leave\" pela quantidade de valores nulos, logo, elas serão tratadas inicialmente."
      ]
    },
    {
      "cell_type": "markdown",
      "metadata": {
        "id": "m7Cdekdy5hdo",
        "colab_type": "text"
      },
      "source": [
        "As colunas \"Rising_Star\" e \"Critical\" tem muitos valores nulos, o que torna a análise dessas colunas difícil, então serei breve com elas."
      ]
    },
    {
      "cell_type": "code",
      "metadata": {
        "id": "QN3N93Ca1REl",
        "colab_type": "code",
        "colab": {
          "base_uri": "https://localhost:8080/",
          "height": 292
        },
        "outputId": "7e94e69d-829f-4c02-e57a-7f9c19330b3a"
      },
      "source": [
        "data.query('Rising_Star == \"Nan\"').head()"
      ],
      "execution_count": 4,
      "outputs": [
        {
          "output_type": "execute_result",
          "data": {
            "text/html": [
              "<div>\n",
              "<style scoped>\n",
              "    .dataframe tbody tr th:only-of-type {\n",
              "        vertical-align: middle;\n",
              "    }\n",
              "\n",
              "    .dataframe tbody tr th {\n",
              "        vertical-align: top;\n",
              "    }\n",
              "\n",
              "    .dataframe thead th {\n",
              "        text-align: right;\n",
              "    }\n",
              "</style>\n",
              "<table border=\"1\" class=\"dataframe\">\n",
              "  <thead>\n",
              "    <tr style=\"text-align: right;\">\n",
              "      <th></th>\n",
              "      <th>ID</th>\n",
              "      <th>Name</th>\n",
              "      <th>Department</th>\n",
              "      <th>GEO</th>\n",
              "      <th>Role</th>\n",
              "      <th>Rising_Star</th>\n",
              "      <th>Will_Relocate</th>\n",
              "      <th>Critical</th>\n",
              "      <th>Trending Perf</th>\n",
              "      <th>Talent_Level</th>\n",
              "      <th>Validated_Talent_Level</th>\n",
              "      <th>Percent_Remote</th>\n",
              "      <th>EMP_Sat_OnPrem_1</th>\n",
              "      <th>EMP_Sat_OnPrem_2</th>\n",
              "      <th>EMP_Sat_OnPrem_3</th>\n",
              "      <th>EMP_Sat_OnPrem_4</th>\n",
              "      <th>EMP_Sat_OnPrem_5</th>\n",
              "      <th>EMP_Sat_Remote_1</th>\n",
              "      <th>EMP_Sat_Remote_2</th>\n",
              "      <th>EMP_Sat_Remote_3</th>\n",
              "      <th>EMP_Sat_Remote_4</th>\n",
              "      <th>EMP_Sat_Remote_5</th>\n",
              "      <th>EMP_Engagement_1</th>\n",
              "      <th>EMP_Engagement_2</th>\n",
              "      <th>EMP_Engagement_3</th>\n",
              "      <th>EMP_Engagement_4</th>\n",
              "      <th>EMP_Engagement_5</th>\n",
              "      <th>last_evaluation</th>\n",
              "      <th>number_project</th>\n",
              "      <th>average_montly_hours</th>\n",
              "      <th>time_spend_company</th>\n",
              "      <th>Work_accident</th>\n",
              "      <th>left_Company</th>\n",
              "      <th>CSR Factor</th>\n",
              "      <th>promotion_last_5years</th>\n",
              "      <th>sales</th>\n",
              "      <th>salary</th>\n",
              "      <th>Gender</th>\n",
              "      <th>LinkedIn_Hits</th>\n",
              "      <th>Emp_Work_Status2</th>\n",
              "      <th>Emp_Work_Status_3</th>\n",
              "      <th>Emp_Work_Status_4</th>\n",
              "      <th>Emp_Work_Status_5</th>\n",
              "      <th>Emp_Identity</th>\n",
              "      <th>Emp_Role</th>\n",
              "      <th>Emp_Position</th>\n",
              "      <th>Emp_Title</th>\n",
              "      <th>Women_Leave</th>\n",
              "      <th>Men_Leave</th>\n",
              "      <th>Emp_Competitive_1</th>\n",
              "      <th>Emp_Competitive_2</th>\n",
              "      <th>Emp_Competitive_3</th>\n",
              "      <th>Emp_Competitive_4</th>\n",
              "      <th>Emp_Competitive_5</th>\n",
              "      <th>Emp_Collaborative_1</th>\n",
              "      <th>Emp_Collaborative_2</th>\n",
              "      <th>Emp_Collaborative_3</th>\n",
              "      <th>Emp_Collaborative_4</th>\n",
              "      <th>Emp_Collaborative_5</th>\n",
              "      <th>Sensor_StepCount</th>\n",
              "      <th>Sensor_Heartbeat(Average/Min)</th>\n",
              "      <th>Sensor_Proximity(1-highest/10-lowest)</th>\n",
              "    </tr>\n",
              "  </thead>\n",
              "  <tbody>\n",
              "    <tr>\n",
              "      <th>0</th>\n",
              "      <td>1</td>\n",
              "      <td>BRADDY</td>\n",
              "      <td>Operations</td>\n",
              "      <td>US</td>\n",
              "      <td>VP</td>\n",
              "      <td>NaN</td>\n",
              "      <td>0</td>\n",
              "      <td>1.0</td>\n",
              "      <td>3</td>\n",
              "      <td>6</td>\n",
              "      <td>6</td>\n",
              "      <td>0.4</td>\n",
              "      <td>3.0</td>\n",
              "      <td>3.0</td>\n",
              "      <td>4.0</td>\n",
              "      <td>3.0</td>\n",
              "      <td>5.0</td>\n",
              "      <td>2</td>\n",
              "      <td>3</td>\n",
              "      <td>2</td>\n",
              "      <td>3</td>\n",
              "      <td>2</td>\n",
              "      <td>5</td>\n",
              "      <td>5</td>\n",
              "      <td>4</td>\n",
              "      <td>4</td>\n",
              "      <td>3</td>\n",
              "      <td>0.36</td>\n",
              "      <td>3</td>\n",
              "      <td>168</td>\n",
              "      <td>3</td>\n",
              "      <td>1</td>\n",
              "      <td>0</td>\n",
              "      <td>NaN</td>\n",
              "      <td>0</td>\n",
              "      <td>sales</td>\n",
              "      <td>low</td>\n",
              "      <td>M</td>\n",
              "      <td>5</td>\n",
              "      <td>4</td>\n",
              "      <td>3</td>\n",
              "      <td>1</td>\n",
              "      <td>1</td>\n",
              "      <td>1</td>\n",
              "      <td>1</td>\n",
              "      <td>2</td>\n",
              "      <td>1</td>\n",
              "      <td>NaN</td>\n",
              "      <td>1.0</td>\n",
              "      <td>2</td>\n",
              "      <td>4</td>\n",
              "      <td>2</td>\n",
              "      <td>2</td>\n",
              "      <td>2</td>\n",
              "      <td>2</td>\n",
              "      <td>2</td>\n",
              "      <td>2</td>\n",
              "      <td>1</td>\n",
              "      <td>5</td>\n",
              "      <td>1841</td>\n",
              "      <td>61</td>\n",
              "      <td>9</td>\n",
              "    </tr>\n",
              "    <tr>\n",
              "      <th>1</th>\n",
              "      <td>2</td>\n",
              "      <td>BORST</td>\n",
              "      <td>Sales</td>\n",
              "      <td>UK</td>\n",
              "      <td>Senior Director</td>\n",
              "      <td>NaN</td>\n",
              "      <td>0</td>\n",
              "      <td>NaN</td>\n",
              "      <td>3</td>\n",
              "      <td>6</td>\n",
              "      <td>6</td>\n",
              "      <td>0.4</td>\n",
              "      <td>3.0</td>\n",
              "      <td>3.0</td>\n",
              "      <td>4.0</td>\n",
              "      <td>3.0</td>\n",
              "      <td>5.0</td>\n",
              "      <td>2</td>\n",
              "      <td>3</td>\n",
              "      <td>2</td>\n",
              "      <td>3</td>\n",
              "      <td>2</td>\n",
              "      <td>5</td>\n",
              "      <td>5</td>\n",
              "      <td>4</td>\n",
              "      <td>4</td>\n",
              "      <td>3</td>\n",
              "      <td>0.36</td>\n",
              "      <td>5</td>\n",
              "      <td>159</td>\n",
              "      <td>2</td>\n",
              "      <td>0</td>\n",
              "      <td>0</td>\n",
              "      <td>NaN</td>\n",
              "      <td>0</td>\n",
              "      <td>accounting</td>\n",
              "      <td>low</td>\n",
              "      <td>F</td>\n",
              "      <td>58</td>\n",
              "      <td>3</td>\n",
              "      <td>3</td>\n",
              "      <td>4</td>\n",
              "      <td>3</td>\n",
              "      <td>2</td>\n",
              "      <td>1</td>\n",
              "      <td>2</td>\n",
              "      <td>1</td>\n",
              "      <td>0.0</td>\n",
              "      <td>NaN</td>\n",
              "      <td>2</td>\n",
              "      <td>2</td>\n",
              "      <td>1</td>\n",
              "      <td>4</td>\n",
              "      <td>1</td>\n",
              "      <td>3</td>\n",
              "      <td>2</td>\n",
              "      <td>5</td>\n",
              "      <td>1</td>\n",
              "      <td>5</td>\n",
              "      <td>1990</td>\n",
              "      <td>90</td>\n",
              "      <td>8</td>\n",
              "    </tr>\n",
              "    <tr>\n",
              "      <th>2</th>\n",
              "      <td>3</td>\n",
              "      <td>BIRDWELL</td>\n",
              "      <td>Finance</td>\n",
              "      <td>France</td>\n",
              "      <td>Senior Director</td>\n",
              "      <td>NaN</td>\n",
              "      <td>0</td>\n",
              "      <td>NaN</td>\n",
              "      <td>3</td>\n",
              "      <td>6</td>\n",
              "      <td>6</td>\n",
              "      <td>0.4</td>\n",
              "      <td>3.0</td>\n",
              "      <td>3.0</td>\n",
              "      <td>4.0</td>\n",
              "      <td>3.0</td>\n",
              "      <td>5.0</td>\n",
              "      <td>2</td>\n",
              "      <td>3</td>\n",
              "      <td>2</td>\n",
              "      <td>3</td>\n",
              "      <td>2</td>\n",
              "      <td>5</td>\n",
              "      <td>5</td>\n",
              "      <td>4</td>\n",
              "      <td>4</td>\n",
              "      <td>3</td>\n",
              "      <td>0.36</td>\n",
              "      <td>2</td>\n",
              "      <td>282</td>\n",
              "      <td>3</td>\n",
              "      <td>0</td>\n",
              "      <td>0</td>\n",
              "      <td>NaN</td>\n",
              "      <td>0</td>\n",
              "      <td>product_mng</td>\n",
              "      <td>medium</td>\n",
              "      <td>F</td>\n",
              "      <td>42</td>\n",
              "      <td>2</td>\n",
              "      <td>4</td>\n",
              "      <td>1</td>\n",
              "      <td>3</td>\n",
              "      <td>1</td>\n",
              "      <td>1</td>\n",
              "      <td>2</td>\n",
              "      <td>2</td>\n",
              "      <td>1.0</td>\n",
              "      <td>NaN</td>\n",
              "      <td>1</td>\n",
              "      <td>5</td>\n",
              "      <td>1</td>\n",
              "      <td>2</td>\n",
              "      <td>5</td>\n",
              "      <td>2</td>\n",
              "      <td>2</td>\n",
              "      <td>4</td>\n",
              "      <td>4</td>\n",
              "      <td>4</td>\n",
              "      <td>3193</td>\n",
              "      <td>80</td>\n",
              "      <td>8</td>\n",
              "    </tr>\n",
              "    <tr>\n",
              "      <th>3</th>\n",
              "      <td>4</td>\n",
              "      <td>BENT</td>\n",
              "      <td>Human Resources</td>\n",
              "      <td>China</td>\n",
              "      <td>Senior Director</td>\n",
              "      <td>NaN</td>\n",
              "      <td>0</td>\n",
              "      <td>NaN</td>\n",
              "      <td>3</td>\n",
              "      <td>6</td>\n",
              "      <td>6</td>\n",
              "      <td>0.4</td>\n",
              "      <td>3.0</td>\n",
              "      <td>3.0</td>\n",
              "      <td>4.0</td>\n",
              "      <td>3.0</td>\n",
              "      <td>5.0</td>\n",
              "      <td>2</td>\n",
              "      <td>3</td>\n",
              "      <td>2</td>\n",
              "      <td>3</td>\n",
              "      <td>2</td>\n",
              "      <td>5</td>\n",
              "      <td>5</td>\n",
              "      <td>4</td>\n",
              "      <td>4</td>\n",
              "      <td>3</td>\n",
              "      <td>0.36</td>\n",
              "      <td>4</td>\n",
              "      <td>278</td>\n",
              "      <td>4</td>\n",
              "      <td>1</td>\n",
              "      <td>0</td>\n",
              "      <td>NaN</td>\n",
              "      <td>0</td>\n",
              "      <td>product_mng</td>\n",
              "      <td>high</td>\n",
              "      <td>M</td>\n",
              "      <td>37</td>\n",
              "      <td>3</td>\n",
              "      <td>1</td>\n",
              "      <td>4</td>\n",
              "      <td>5</td>\n",
              "      <td>2</td>\n",
              "      <td>1</td>\n",
              "      <td>2</td>\n",
              "      <td>1</td>\n",
              "      <td>NaN</td>\n",
              "      <td>1.0</td>\n",
              "      <td>1</td>\n",
              "      <td>1</td>\n",
              "      <td>2</td>\n",
              "      <td>5</td>\n",
              "      <td>1</td>\n",
              "      <td>1</td>\n",
              "      <td>2</td>\n",
              "      <td>4</td>\n",
              "      <td>4</td>\n",
              "      <td>1</td>\n",
              "      <td>3248</td>\n",
              "      <td>77</td>\n",
              "      <td>6</td>\n",
              "    </tr>\n",
              "    <tr>\n",
              "      <th>4</th>\n",
              "      <td>5</td>\n",
              "      <td>BAZAN</td>\n",
              "      <td>IT</td>\n",
              "      <td>Korea</td>\n",
              "      <td>Director</td>\n",
              "      <td>NaN</td>\n",
              "      <td>0</td>\n",
              "      <td>NaN</td>\n",
              "      <td>3</td>\n",
              "      <td>6</td>\n",
              "      <td>6</td>\n",
              "      <td>0.4</td>\n",
              "      <td>3.0</td>\n",
              "      <td>3.0</td>\n",
              "      <td>4.0</td>\n",
              "      <td>3.0</td>\n",
              "      <td>5.0</td>\n",
              "      <td>2</td>\n",
              "      <td>3</td>\n",
              "      <td>2</td>\n",
              "      <td>3</td>\n",
              "      <td>2</td>\n",
              "      <td>5</td>\n",
              "      <td>5</td>\n",
              "      <td>4</td>\n",
              "      <td>4</td>\n",
              "      <td>3</td>\n",
              "      <td>0.36</td>\n",
              "      <td>6</td>\n",
              "      <td>256</td>\n",
              "      <td>5</td>\n",
              "      <td>0</td>\n",
              "      <td>0</td>\n",
              "      <td>NaN</td>\n",
              "      <td>0</td>\n",
              "      <td>sales</td>\n",
              "      <td>low</td>\n",
              "      <td>F</td>\n",
              "      <td>6</td>\n",
              "      <td>4</td>\n",
              "      <td>5</td>\n",
              "      <td>4</td>\n",
              "      <td>5</td>\n",
              "      <td>1</td>\n",
              "      <td>1</td>\n",
              "      <td>2</td>\n",
              "      <td>1</td>\n",
              "      <td>1.0</td>\n",
              "      <td>NaN</td>\n",
              "      <td>1</td>\n",
              "      <td>4</td>\n",
              "      <td>1</td>\n",
              "      <td>5</td>\n",
              "      <td>3</td>\n",
              "      <td>5</td>\n",
              "      <td>1</td>\n",
              "      <td>2</td>\n",
              "      <td>5</td>\n",
              "      <td>4</td>\n",
              "      <td>3149</td>\n",
              "      <td>80</td>\n",
              "      <td>10</td>\n",
              "    </tr>\n",
              "  </tbody>\n",
              "</table>\n",
              "</div>"
            ],
            "text/plain": [
              "   ID  ... Sensor_Proximity(1-highest/10-lowest)\n",
              "0   1  ...                                     9\n",
              "1   2  ...                                     8\n",
              "2   3  ...                                     8\n",
              "3   4  ...                                     6\n",
              "4   5  ...                                    10\n",
              "\n",
              "[5 rows x 62 columns]"
            ]
          },
          "metadata": {
            "tags": []
          },
          "execution_count": 4
        }
      ]
    },
    {
      "cell_type": "code",
      "metadata": {
        "id": "YmvFMp6o4zgB",
        "colab_type": "code",
        "colab": {
          "base_uri": "https://localhost:8080/",
          "height": 292
        },
        "outputId": "de779fdf-2b33-46bc-c70d-3ef2fa011a03"
      },
      "source": [
        "data.query('Critical == \"Nan\"').head()"
      ],
      "execution_count": 5,
      "outputs": [
        {
          "output_type": "execute_result",
          "data": {
            "text/html": [
              "<div>\n",
              "<style scoped>\n",
              "    .dataframe tbody tr th:only-of-type {\n",
              "        vertical-align: middle;\n",
              "    }\n",
              "\n",
              "    .dataframe tbody tr th {\n",
              "        vertical-align: top;\n",
              "    }\n",
              "\n",
              "    .dataframe thead th {\n",
              "        text-align: right;\n",
              "    }\n",
              "</style>\n",
              "<table border=\"1\" class=\"dataframe\">\n",
              "  <thead>\n",
              "    <tr style=\"text-align: right;\">\n",
              "      <th></th>\n",
              "      <th>ID</th>\n",
              "      <th>Name</th>\n",
              "      <th>Department</th>\n",
              "      <th>GEO</th>\n",
              "      <th>Role</th>\n",
              "      <th>Rising_Star</th>\n",
              "      <th>Will_Relocate</th>\n",
              "      <th>Critical</th>\n",
              "      <th>Trending Perf</th>\n",
              "      <th>Talent_Level</th>\n",
              "      <th>Validated_Talent_Level</th>\n",
              "      <th>Percent_Remote</th>\n",
              "      <th>EMP_Sat_OnPrem_1</th>\n",
              "      <th>EMP_Sat_OnPrem_2</th>\n",
              "      <th>EMP_Sat_OnPrem_3</th>\n",
              "      <th>EMP_Sat_OnPrem_4</th>\n",
              "      <th>EMP_Sat_OnPrem_5</th>\n",
              "      <th>EMP_Sat_Remote_1</th>\n",
              "      <th>EMP_Sat_Remote_2</th>\n",
              "      <th>EMP_Sat_Remote_3</th>\n",
              "      <th>EMP_Sat_Remote_4</th>\n",
              "      <th>EMP_Sat_Remote_5</th>\n",
              "      <th>EMP_Engagement_1</th>\n",
              "      <th>EMP_Engagement_2</th>\n",
              "      <th>EMP_Engagement_3</th>\n",
              "      <th>EMP_Engagement_4</th>\n",
              "      <th>EMP_Engagement_5</th>\n",
              "      <th>last_evaluation</th>\n",
              "      <th>number_project</th>\n",
              "      <th>average_montly_hours</th>\n",
              "      <th>time_spend_company</th>\n",
              "      <th>Work_accident</th>\n",
              "      <th>left_Company</th>\n",
              "      <th>CSR Factor</th>\n",
              "      <th>promotion_last_5years</th>\n",
              "      <th>sales</th>\n",
              "      <th>salary</th>\n",
              "      <th>Gender</th>\n",
              "      <th>LinkedIn_Hits</th>\n",
              "      <th>Emp_Work_Status2</th>\n",
              "      <th>Emp_Work_Status_3</th>\n",
              "      <th>Emp_Work_Status_4</th>\n",
              "      <th>Emp_Work_Status_5</th>\n",
              "      <th>Emp_Identity</th>\n",
              "      <th>Emp_Role</th>\n",
              "      <th>Emp_Position</th>\n",
              "      <th>Emp_Title</th>\n",
              "      <th>Women_Leave</th>\n",
              "      <th>Men_Leave</th>\n",
              "      <th>Emp_Competitive_1</th>\n",
              "      <th>Emp_Competitive_2</th>\n",
              "      <th>Emp_Competitive_3</th>\n",
              "      <th>Emp_Competitive_4</th>\n",
              "      <th>Emp_Competitive_5</th>\n",
              "      <th>Emp_Collaborative_1</th>\n",
              "      <th>Emp_Collaborative_2</th>\n",
              "      <th>Emp_Collaborative_3</th>\n",
              "      <th>Emp_Collaborative_4</th>\n",
              "      <th>Emp_Collaborative_5</th>\n",
              "      <th>Sensor_StepCount</th>\n",
              "      <th>Sensor_Heartbeat(Average/Min)</th>\n",
              "      <th>Sensor_Proximity(1-highest/10-lowest)</th>\n",
              "    </tr>\n",
              "  </thead>\n",
              "  <tbody>\n",
              "    <tr>\n",
              "      <th>1</th>\n",
              "      <td>2</td>\n",
              "      <td>BORST</td>\n",
              "      <td>Sales</td>\n",
              "      <td>UK</td>\n",
              "      <td>Senior Director</td>\n",
              "      <td>NaN</td>\n",
              "      <td>0</td>\n",
              "      <td>NaN</td>\n",
              "      <td>3</td>\n",
              "      <td>6</td>\n",
              "      <td>6</td>\n",
              "      <td>0.4</td>\n",
              "      <td>3.0</td>\n",
              "      <td>3.0</td>\n",
              "      <td>4.0</td>\n",
              "      <td>3.0</td>\n",
              "      <td>5.0</td>\n",
              "      <td>2</td>\n",
              "      <td>3</td>\n",
              "      <td>2</td>\n",
              "      <td>3</td>\n",
              "      <td>2</td>\n",
              "      <td>5</td>\n",
              "      <td>5</td>\n",
              "      <td>4</td>\n",
              "      <td>4</td>\n",
              "      <td>3</td>\n",
              "      <td>0.36</td>\n",
              "      <td>5</td>\n",
              "      <td>159</td>\n",
              "      <td>2</td>\n",
              "      <td>0</td>\n",
              "      <td>0</td>\n",
              "      <td>NaN</td>\n",
              "      <td>0</td>\n",
              "      <td>accounting</td>\n",
              "      <td>low</td>\n",
              "      <td>F</td>\n",
              "      <td>58</td>\n",
              "      <td>3</td>\n",
              "      <td>3</td>\n",
              "      <td>4</td>\n",
              "      <td>3</td>\n",
              "      <td>2</td>\n",
              "      <td>1</td>\n",
              "      <td>2</td>\n",
              "      <td>1</td>\n",
              "      <td>0.0</td>\n",
              "      <td>NaN</td>\n",
              "      <td>2</td>\n",
              "      <td>2</td>\n",
              "      <td>1</td>\n",
              "      <td>4</td>\n",
              "      <td>1</td>\n",
              "      <td>3</td>\n",
              "      <td>2</td>\n",
              "      <td>5</td>\n",
              "      <td>1</td>\n",
              "      <td>5</td>\n",
              "      <td>1990</td>\n",
              "      <td>90</td>\n",
              "      <td>8</td>\n",
              "    </tr>\n",
              "    <tr>\n",
              "      <th>2</th>\n",
              "      <td>3</td>\n",
              "      <td>BIRDWELL</td>\n",
              "      <td>Finance</td>\n",
              "      <td>France</td>\n",
              "      <td>Senior Director</td>\n",
              "      <td>NaN</td>\n",
              "      <td>0</td>\n",
              "      <td>NaN</td>\n",
              "      <td>3</td>\n",
              "      <td>6</td>\n",
              "      <td>6</td>\n",
              "      <td>0.4</td>\n",
              "      <td>3.0</td>\n",
              "      <td>3.0</td>\n",
              "      <td>4.0</td>\n",
              "      <td>3.0</td>\n",
              "      <td>5.0</td>\n",
              "      <td>2</td>\n",
              "      <td>3</td>\n",
              "      <td>2</td>\n",
              "      <td>3</td>\n",
              "      <td>2</td>\n",
              "      <td>5</td>\n",
              "      <td>5</td>\n",
              "      <td>4</td>\n",
              "      <td>4</td>\n",
              "      <td>3</td>\n",
              "      <td>0.36</td>\n",
              "      <td>2</td>\n",
              "      <td>282</td>\n",
              "      <td>3</td>\n",
              "      <td>0</td>\n",
              "      <td>0</td>\n",
              "      <td>NaN</td>\n",
              "      <td>0</td>\n",
              "      <td>product_mng</td>\n",
              "      <td>medium</td>\n",
              "      <td>F</td>\n",
              "      <td>42</td>\n",
              "      <td>2</td>\n",
              "      <td>4</td>\n",
              "      <td>1</td>\n",
              "      <td>3</td>\n",
              "      <td>1</td>\n",
              "      <td>1</td>\n",
              "      <td>2</td>\n",
              "      <td>2</td>\n",
              "      <td>1.0</td>\n",
              "      <td>NaN</td>\n",
              "      <td>1</td>\n",
              "      <td>5</td>\n",
              "      <td>1</td>\n",
              "      <td>2</td>\n",
              "      <td>5</td>\n",
              "      <td>2</td>\n",
              "      <td>2</td>\n",
              "      <td>4</td>\n",
              "      <td>4</td>\n",
              "      <td>4</td>\n",
              "      <td>3193</td>\n",
              "      <td>80</td>\n",
              "      <td>8</td>\n",
              "    </tr>\n",
              "    <tr>\n",
              "      <th>3</th>\n",
              "      <td>4</td>\n",
              "      <td>BENT</td>\n",
              "      <td>Human Resources</td>\n",
              "      <td>China</td>\n",
              "      <td>Senior Director</td>\n",
              "      <td>NaN</td>\n",
              "      <td>0</td>\n",
              "      <td>NaN</td>\n",
              "      <td>3</td>\n",
              "      <td>6</td>\n",
              "      <td>6</td>\n",
              "      <td>0.4</td>\n",
              "      <td>3.0</td>\n",
              "      <td>3.0</td>\n",
              "      <td>4.0</td>\n",
              "      <td>3.0</td>\n",
              "      <td>5.0</td>\n",
              "      <td>2</td>\n",
              "      <td>3</td>\n",
              "      <td>2</td>\n",
              "      <td>3</td>\n",
              "      <td>2</td>\n",
              "      <td>5</td>\n",
              "      <td>5</td>\n",
              "      <td>4</td>\n",
              "      <td>4</td>\n",
              "      <td>3</td>\n",
              "      <td>0.36</td>\n",
              "      <td>4</td>\n",
              "      <td>278</td>\n",
              "      <td>4</td>\n",
              "      <td>1</td>\n",
              "      <td>0</td>\n",
              "      <td>NaN</td>\n",
              "      <td>0</td>\n",
              "      <td>product_mng</td>\n",
              "      <td>high</td>\n",
              "      <td>M</td>\n",
              "      <td>37</td>\n",
              "      <td>3</td>\n",
              "      <td>1</td>\n",
              "      <td>4</td>\n",
              "      <td>5</td>\n",
              "      <td>2</td>\n",
              "      <td>1</td>\n",
              "      <td>2</td>\n",
              "      <td>1</td>\n",
              "      <td>NaN</td>\n",
              "      <td>1.0</td>\n",
              "      <td>1</td>\n",
              "      <td>1</td>\n",
              "      <td>2</td>\n",
              "      <td>5</td>\n",
              "      <td>1</td>\n",
              "      <td>1</td>\n",
              "      <td>2</td>\n",
              "      <td>4</td>\n",
              "      <td>4</td>\n",
              "      <td>1</td>\n",
              "      <td>3248</td>\n",
              "      <td>77</td>\n",
              "      <td>6</td>\n",
              "    </tr>\n",
              "    <tr>\n",
              "      <th>4</th>\n",
              "      <td>5</td>\n",
              "      <td>BAZAN</td>\n",
              "      <td>IT</td>\n",
              "      <td>Korea</td>\n",
              "      <td>Director</td>\n",
              "      <td>NaN</td>\n",
              "      <td>0</td>\n",
              "      <td>NaN</td>\n",
              "      <td>3</td>\n",
              "      <td>6</td>\n",
              "      <td>6</td>\n",
              "      <td>0.4</td>\n",
              "      <td>3.0</td>\n",
              "      <td>3.0</td>\n",
              "      <td>4.0</td>\n",
              "      <td>3.0</td>\n",
              "      <td>5.0</td>\n",
              "      <td>2</td>\n",
              "      <td>3</td>\n",
              "      <td>2</td>\n",
              "      <td>3</td>\n",
              "      <td>2</td>\n",
              "      <td>5</td>\n",
              "      <td>5</td>\n",
              "      <td>4</td>\n",
              "      <td>4</td>\n",
              "      <td>3</td>\n",
              "      <td>0.36</td>\n",
              "      <td>6</td>\n",
              "      <td>256</td>\n",
              "      <td>5</td>\n",
              "      <td>0</td>\n",
              "      <td>0</td>\n",
              "      <td>NaN</td>\n",
              "      <td>0</td>\n",
              "      <td>sales</td>\n",
              "      <td>low</td>\n",
              "      <td>F</td>\n",
              "      <td>6</td>\n",
              "      <td>4</td>\n",
              "      <td>5</td>\n",
              "      <td>4</td>\n",
              "      <td>5</td>\n",
              "      <td>1</td>\n",
              "      <td>1</td>\n",
              "      <td>2</td>\n",
              "      <td>1</td>\n",
              "      <td>1.0</td>\n",
              "      <td>NaN</td>\n",
              "      <td>1</td>\n",
              "      <td>4</td>\n",
              "      <td>1</td>\n",
              "      <td>5</td>\n",
              "      <td>3</td>\n",
              "      <td>5</td>\n",
              "      <td>1</td>\n",
              "      <td>2</td>\n",
              "      <td>5</td>\n",
              "      <td>4</td>\n",
              "      <td>3149</td>\n",
              "      <td>80</td>\n",
              "      <td>10</td>\n",
              "    </tr>\n",
              "    <tr>\n",
              "      <th>5</th>\n",
              "      <td>6</td>\n",
              "      <td>BANK</td>\n",
              "      <td>Warehouse</td>\n",
              "      <td>Colombia</td>\n",
              "      <td>Director</td>\n",
              "      <td>NaN</td>\n",
              "      <td>0</td>\n",
              "      <td>NaN</td>\n",
              "      <td>3</td>\n",
              "      <td>6</td>\n",
              "      <td>6</td>\n",
              "      <td>0.4</td>\n",
              "      <td>3.0</td>\n",
              "      <td>3.0</td>\n",
              "      <td>4.0</td>\n",
              "      <td>3.0</td>\n",
              "      <td>5.0</td>\n",
              "      <td>2</td>\n",
              "      <td>3</td>\n",
              "      <td>2</td>\n",
              "      <td>3</td>\n",
              "      <td>2</td>\n",
              "      <td>5</td>\n",
              "      <td>5</td>\n",
              "      <td>4</td>\n",
              "      <td>4</td>\n",
              "      <td>3</td>\n",
              "      <td>0.36</td>\n",
              "      <td>4</td>\n",
              "      <td>97</td>\n",
              "      <td>4</td>\n",
              "      <td>0</td>\n",
              "      <td>0</td>\n",
              "      <td>NaN</td>\n",
              "      <td>0</td>\n",
              "      <td>sales</td>\n",
              "      <td>medium</td>\n",
              "      <td>F</td>\n",
              "      <td>17</td>\n",
              "      <td>1</td>\n",
              "      <td>4</td>\n",
              "      <td>5</td>\n",
              "      <td>3</td>\n",
              "      <td>2</td>\n",
              "      <td>1</td>\n",
              "      <td>1</td>\n",
              "      <td>1</td>\n",
              "      <td>0.0</td>\n",
              "      <td>NaN</td>\n",
              "      <td>1</td>\n",
              "      <td>3</td>\n",
              "      <td>2</td>\n",
              "      <td>2</td>\n",
              "      <td>3</td>\n",
              "      <td>2</td>\n",
              "      <td>2</td>\n",
              "      <td>4</td>\n",
              "      <td>2</td>\n",
              "      <td>4</td>\n",
              "      <td>1204</td>\n",
              "      <td>85</td>\n",
              "      <td>10</td>\n",
              "    </tr>\n",
              "  </tbody>\n",
              "</table>\n",
              "</div>"
            ],
            "text/plain": [
              "   ID  ... Sensor_Proximity(1-highest/10-lowest)\n",
              "1   2  ...                                     8\n",
              "2   3  ...                                     8\n",
              "3   4  ...                                     6\n",
              "4   5  ...                                    10\n",
              "5   6  ...                                    10\n",
              "\n",
              "[5 rows x 62 columns]"
            ]
          },
          "metadata": {
            "tags": []
          },
          "execution_count": 5
        }
      ]
    },
    {
      "cell_type": "code",
      "metadata": {
        "id": "JHXPEo6x50gt",
        "colab_type": "code",
        "colab": {
          "base_uri": "https://localhost:8080/",
          "height": 34
        },
        "outputId": "acddb761-c816-4c50-de01-599120c53eac"
      },
      "source": [
        "data['CSR Factor'].unique()"
      ],
      "execution_count": 6,
      "outputs": [
        {
          "output_type": "execute_result",
          "data": {
            "text/plain": [
              "array([nan,  5.])"
            ]
          },
          "metadata": {
            "tags": []
          },
          "execution_count": 6
        }
      ]
    },
    {
      "cell_type": "markdown",
      "metadata": {
        "id": "HhZFTU4C7J3p",
        "colab_type": "text"
      },
      "source": [
        "No Dataset já dizia para ignorar, mas para ter certeza quis analisa-la. Como visto acima, só há valores nulos e \"5\"."
      ]
    },
    {
      "cell_type": "code",
      "metadata": {
        "id": "a6EmxnRc66Cq",
        "colab_type": "code",
        "colab": {
          "base_uri": "https://localhost:8080/",
          "height": 34
        },
        "outputId": "2a867bce-2f09-40ed-a3fe-d97bb6e60163"
      },
      "source": [
        "data[\"Women_Leave\"].isna().sum()"
      ],
      "execution_count": 7,
      "outputs": [
        {
          "output_type": "execute_result",
          "data": {
            "text/plain": [
              "7403"
            ]
          },
          "metadata": {
            "tags": []
          },
          "execution_count": 7
        }
      ]
    },
    {
      "cell_type": "code",
      "metadata": {
        "id": "tBLBhZny7oTG",
        "colab_type": "code",
        "colab": {
          "base_uri": "https://localhost:8080/",
          "height": 68
        },
        "outputId": "dd5cea64-177a-47d1-9525-33066cd90561"
      },
      "source": [
        "data['Men_Leave'].value_counts()"
      ],
      "execution_count": 8,
      "outputs": [
        {
          "output_type": "execute_result",
          "data": {
            "text/plain": [
              "1.0    4420\n",
              "0.0     445\n",
              "Name: Men_Leave, dtype: int64"
            ]
          },
          "metadata": {
            "tags": []
          },
          "execution_count": 8
        }
      ]
    },
    {
      "cell_type": "markdown",
      "metadata": {
        "id": "MJkZlPwE8007",
        "colab_type": "text"
      },
      "source": [
        "As colunas \"Women_Leave\" e \"Men_Leave\" são desmembramentos da variável alvo, então iremos exclui-las mais adiante."
      ]
    },
    {
      "cell_type": "markdown",
      "metadata": {
        "id": "Shny4gLw-ROD",
        "colab_type": "text"
      },
      "source": [
        "Agora trataremos os valores faltantes nas demais colunas"
      ]
    },
    {
      "cell_type": "code",
      "metadata": {
        "id": "u5eyyn4Z7xPj",
        "colab_type": "code",
        "colab": {
          "base_uri": "https://localhost:8080/",
          "height": 182
        },
        "outputId": "ed388e84-96de-486f-9204-364019249ba0"
      },
      "source": [
        "data.loc[data['Name'].isna()]"
      ],
      "execution_count": 9,
      "outputs": [
        {
          "output_type": "execute_result",
          "data": {
            "text/html": [
              "<div>\n",
              "<style scoped>\n",
              "    .dataframe tbody tr th:only-of-type {\n",
              "        vertical-align: middle;\n",
              "    }\n",
              "\n",
              "    .dataframe tbody tr th {\n",
              "        vertical-align: top;\n",
              "    }\n",
              "\n",
              "    .dataframe thead th {\n",
              "        text-align: right;\n",
              "    }\n",
              "</style>\n",
              "<table border=\"1\" class=\"dataframe\">\n",
              "  <thead>\n",
              "    <tr style=\"text-align: right;\">\n",
              "      <th></th>\n",
              "      <th>ID</th>\n",
              "      <th>Name</th>\n",
              "      <th>Department</th>\n",
              "      <th>GEO</th>\n",
              "      <th>Role</th>\n",
              "      <th>Rising_Star</th>\n",
              "      <th>Will_Relocate</th>\n",
              "      <th>Critical</th>\n",
              "      <th>Trending Perf</th>\n",
              "      <th>Talent_Level</th>\n",
              "      <th>Validated_Talent_Level</th>\n",
              "      <th>Percent_Remote</th>\n",
              "      <th>EMP_Sat_OnPrem_1</th>\n",
              "      <th>EMP_Sat_OnPrem_2</th>\n",
              "      <th>EMP_Sat_OnPrem_3</th>\n",
              "      <th>EMP_Sat_OnPrem_4</th>\n",
              "      <th>EMP_Sat_OnPrem_5</th>\n",
              "      <th>EMP_Sat_Remote_1</th>\n",
              "      <th>EMP_Sat_Remote_2</th>\n",
              "      <th>EMP_Sat_Remote_3</th>\n",
              "      <th>EMP_Sat_Remote_4</th>\n",
              "      <th>EMP_Sat_Remote_5</th>\n",
              "      <th>EMP_Engagement_1</th>\n",
              "      <th>EMP_Engagement_2</th>\n",
              "      <th>EMP_Engagement_3</th>\n",
              "      <th>EMP_Engagement_4</th>\n",
              "      <th>EMP_Engagement_5</th>\n",
              "      <th>last_evaluation</th>\n",
              "      <th>number_project</th>\n",
              "      <th>average_montly_hours</th>\n",
              "      <th>time_spend_company</th>\n",
              "      <th>Work_accident</th>\n",
              "      <th>left_Company</th>\n",
              "      <th>CSR Factor</th>\n",
              "      <th>promotion_last_5years</th>\n",
              "      <th>sales</th>\n",
              "      <th>salary</th>\n",
              "      <th>Gender</th>\n",
              "      <th>LinkedIn_Hits</th>\n",
              "      <th>Emp_Work_Status2</th>\n",
              "      <th>Emp_Work_Status_3</th>\n",
              "      <th>Emp_Work_Status_4</th>\n",
              "      <th>Emp_Work_Status_5</th>\n",
              "      <th>Emp_Identity</th>\n",
              "      <th>Emp_Role</th>\n",
              "      <th>Emp_Position</th>\n",
              "      <th>Emp_Title</th>\n",
              "      <th>Women_Leave</th>\n",
              "      <th>Men_Leave</th>\n",
              "      <th>Emp_Competitive_1</th>\n",
              "      <th>Emp_Competitive_2</th>\n",
              "      <th>Emp_Competitive_3</th>\n",
              "      <th>Emp_Competitive_4</th>\n",
              "      <th>Emp_Competitive_5</th>\n",
              "      <th>Emp_Collaborative_1</th>\n",
              "      <th>Emp_Collaborative_2</th>\n",
              "      <th>Emp_Collaborative_3</th>\n",
              "      <th>Emp_Collaborative_4</th>\n",
              "      <th>Emp_Collaborative_5</th>\n",
              "      <th>Sensor_StepCount</th>\n",
              "      <th>Sensor_Heartbeat(Average/Min)</th>\n",
              "      <th>Sensor_Proximity(1-highest/10-lowest)</th>\n",
              "    </tr>\n",
              "  </thead>\n",
              "  <tbody>\n",
              "    <tr>\n",
              "      <th>5204</th>\n",
              "      <td>5205</td>\n",
              "      <td>NaN</td>\n",
              "      <td>Finance</td>\n",
              "      <td>Korea</td>\n",
              "      <td>Level 1</td>\n",
              "      <td>NaN</td>\n",
              "      <td>1</td>\n",
              "      <td>NaN</td>\n",
              "      <td>3</td>\n",
              "      <td>6</td>\n",
              "      <td>6</td>\n",
              "      <td>0.4</td>\n",
              "      <td>3.0</td>\n",
              "      <td>1.0</td>\n",
              "      <td>2.0</td>\n",
              "      <td>1.0</td>\n",
              "      <td>1.0</td>\n",
              "      <td>3</td>\n",
              "      <td>5</td>\n",
              "      <td>4</td>\n",
              "      <td>4</td>\n",
              "      <td>5</td>\n",
              "      <td>1</td>\n",
              "      <td>2</td>\n",
              "      <td>3</td>\n",
              "      <td>2</td>\n",
              "      <td>1</td>\n",
              "      <td>0.62</td>\n",
              "      <td>5</td>\n",
              "      <td>198</td>\n",
              "      <td>5</td>\n",
              "      <td>1</td>\n",
              "      <td>1</td>\n",
              "      <td>5.0</td>\n",
              "      <td>0</td>\n",
              "      <td>RandD</td>\n",
              "      <td>low</td>\n",
              "      <td>M</td>\n",
              "      <td>65</td>\n",
              "      <td>2</td>\n",
              "      <td>5</td>\n",
              "      <td>1</td>\n",
              "      <td>5</td>\n",
              "      <td>2</td>\n",
              "      <td>2</td>\n",
              "      <td>2</td>\n",
              "      <td>2</td>\n",
              "      <td>NaN</td>\n",
              "      <td>1.0</td>\n",
              "      <td>1</td>\n",
              "      <td>3</td>\n",
              "      <td>1</td>\n",
              "      <td>2</td>\n",
              "      <td>2</td>\n",
              "      <td>3</td>\n",
              "      <td>1</td>\n",
              "      <td>5</td>\n",
              "      <td>1</td>\n",
              "      <td>2</td>\n",
              "      <td>1994</td>\n",
              "      <td>90</td>\n",
              "      <td>9</td>\n",
              "    </tr>\n",
              "    <tr>\n",
              "      <th>13509</th>\n",
              "      <td>13510</td>\n",
              "      <td>NaN</td>\n",
              "      <td>Human Resources</td>\n",
              "      <td>Australia</td>\n",
              "      <td>Level 2-4</td>\n",
              "      <td>NaN</td>\n",
              "      <td>1</td>\n",
              "      <td>NaN</td>\n",
              "      <td>3</td>\n",
              "      <td>6</td>\n",
              "      <td>6</td>\n",
              "      <td>0.8</td>\n",
              "      <td>3.0</td>\n",
              "      <td>3.0</td>\n",
              "      <td>4.0</td>\n",
              "      <td>3.0</td>\n",
              "      <td>4.0</td>\n",
              "      <td>3</td>\n",
              "      <td>5</td>\n",
              "      <td>4</td>\n",
              "      <td>4</td>\n",
              "      <td>5</td>\n",
              "      <td>5</td>\n",
              "      <td>5</td>\n",
              "      <td>4</td>\n",
              "      <td>4</td>\n",
              "      <td>3</td>\n",
              "      <td>0.95</td>\n",
              "      <td>5</td>\n",
              "      <td>149</td>\n",
              "      <td>2</td>\n",
              "      <td>0</td>\n",
              "      <td>0</td>\n",
              "      <td>NaN</td>\n",
              "      <td>0</td>\n",
              "      <td>technical</td>\n",
              "      <td>low</td>\n",
              "      <td>F</td>\n",
              "      <td>6</td>\n",
              "      <td>2</td>\n",
              "      <td>5</td>\n",
              "      <td>5</td>\n",
              "      <td>2</td>\n",
              "      <td>2</td>\n",
              "      <td>3</td>\n",
              "      <td>2</td>\n",
              "      <td>3</td>\n",
              "      <td>0.0</td>\n",
              "      <td>NaN</td>\n",
              "      <td>4</td>\n",
              "      <td>3</td>\n",
              "      <td>2</td>\n",
              "      <td>5</td>\n",
              "      <td>5</td>\n",
              "      <td>3</td>\n",
              "      <td>2</td>\n",
              "      <td>1</td>\n",
              "      <td>1</td>\n",
              "      <td>1</td>\n",
              "      <td>4661</td>\n",
              "      <td>73</td>\n",
              "      <td>4</td>\n",
              "    </tr>\n",
              "  </tbody>\n",
              "</table>\n",
              "</div>"
            ],
            "text/plain": [
              "          ID  ... Sensor_Proximity(1-highest/10-lowest)\n",
              "5204    5205  ...                                     9\n",
              "13509  13510  ...                                     4\n",
              "\n",
              "[2 rows x 62 columns]"
            ]
          },
          "metadata": {
            "tags": []
          },
          "execution_count": 9
        }
      ]
    },
    {
      "cell_type": "markdown",
      "metadata": {
        "id": "FVSbIvLAAleH",
        "colab_type": "text"
      },
      "source": [
        "A variável \"Name\" não é tão importante para a análise e futura modelagem, mas em um caso real, seria importante saber o motivo desse valor nulo do Dataset."
      ]
    },
    {
      "cell_type": "code",
      "metadata": {
        "id": "j7QajhmY7--U",
        "colab_type": "code",
        "colab": {
          "base_uri": "https://localhost:8080/",
          "height": 51
        },
        "outputId": "5295408b-9cfa-4605-f28c-b803816dc42b"
      },
      "source": [
        "data['EMP_Sat_OnPrem_1'].value_counts()"
      ],
      "execution_count": 10,
      "outputs": [
        {
          "output_type": "execute_result",
          "data": {
            "text/plain": [
              "3.0    14871\n",
              "Name: EMP_Sat_OnPrem_1, dtype: int64"
            ]
          },
          "metadata": {
            "tags": []
          },
          "execution_count": 10
        }
      ]
    },
    {
      "cell_type": "code",
      "metadata": {
        "id": "A8UHByVhBiZA",
        "colab_type": "code",
        "colab": {
          "base_uri": "https://localhost:8080/",
          "height": 85
        },
        "outputId": "b5ee1027-4623-4a2c-9b34-76c839534beb"
      },
      "source": [
        "data['EMP_Sat_OnPrem_5'].value_counts()"
      ],
      "execution_count": 11,
      "outputs": [
        {
          "output_type": "execute_result",
          "data": {
            "text/plain": [
              "4.0    7737\n",
              "5.0    5141\n",
              "1.0    1993\n",
              "Name: EMP_Sat_OnPrem_5, dtype: int64"
            ]
          },
          "metadata": {
            "tags": []
          },
          "execution_count": 11
        }
      ]
    },
    {
      "cell_type": "markdown",
      "metadata": {
        "id": "bRKwKeNhMDUz",
        "colab_type": "text"
      },
      "source": [
        "Utilizando método describe para ter melhor noção dos dados e selecionar as colunas úteis das que não dão muita informação e são desnecessários no momento."
      ]
    },
    {
      "cell_type": "code",
      "metadata": {
        "id": "22lpOU4GDFJY",
        "colab_type": "code",
        "colab": {
          "base_uri": "https://localhost:8080/",
          "height": 334
        },
        "outputId": "d366a715-861b-43a0-dc8c-2f7962c26f11"
      },
      "source": [
        " data.describe()"
      ],
      "execution_count": 12,
      "outputs": [
        {
          "output_type": "execute_result",
          "data": {
            "text/html": [
              "<div>\n",
              "<style scoped>\n",
              "    .dataframe tbody tr th:only-of-type {\n",
              "        vertical-align: middle;\n",
              "    }\n",
              "\n",
              "    .dataframe tbody tr th {\n",
              "        vertical-align: top;\n",
              "    }\n",
              "\n",
              "    .dataframe thead th {\n",
              "        text-align: right;\n",
              "    }\n",
              "</style>\n",
              "<table border=\"1\" class=\"dataframe\">\n",
              "  <thead>\n",
              "    <tr style=\"text-align: right;\">\n",
              "      <th></th>\n",
              "      <th>ID</th>\n",
              "      <th>Rising_Star</th>\n",
              "      <th>Will_Relocate</th>\n",
              "      <th>Critical</th>\n",
              "      <th>Trending Perf</th>\n",
              "      <th>Talent_Level</th>\n",
              "      <th>Validated_Talent_Level</th>\n",
              "      <th>Percent_Remote</th>\n",
              "      <th>EMP_Sat_OnPrem_1</th>\n",
              "      <th>EMP_Sat_OnPrem_2</th>\n",
              "      <th>EMP_Sat_OnPrem_3</th>\n",
              "      <th>EMP_Sat_OnPrem_4</th>\n",
              "      <th>EMP_Sat_OnPrem_5</th>\n",
              "      <th>EMP_Sat_Remote_1</th>\n",
              "      <th>EMP_Sat_Remote_2</th>\n",
              "      <th>EMP_Sat_Remote_3</th>\n",
              "      <th>EMP_Sat_Remote_4</th>\n",
              "      <th>EMP_Sat_Remote_5</th>\n",
              "      <th>EMP_Engagement_1</th>\n",
              "      <th>EMP_Engagement_2</th>\n",
              "      <th>EMP_Engagement_3</th>\n",
              "      <th>EMP_Engagement_4</th>\n",
              "      <th>EMP_Engagement_5</th>\n",
              "      <th>last_evaluation</th>\n",
              "      <th>number_project</th>\n",
              "      <th>average_montly_hours</th>\n",
              "      <th>time_spend_company</th>\n",
              "      <th>Work_accident</th>\n",
              "      <th>left_Company</th>\n",
              "      <th>CSR Factor</th>\n",
              "      <th>promotion_last_5years</th>\n",
              "      <th>LinkedIn_Hits</th>\n",
              "      <th>Emp_Work_Status2</th>\n",
              "      <th>Emp_Work_Status_3</th>\n",
              "      <th>Emp_Work_Status_4</th>\n",
              "      <th>Emp_Work_Status_5</th>\n",
              "      <th>Emp_Identity</th>\n",
              "      <th>Emp_Role</th>\n",
              "      <th>Emp_Position</th>\n",
              "      <th>Emp_Title</th>\n",
              "      <th>Women_Leave</th>\n",
              "      <th>Men_Leave</th>\n",
              "      <th>Emp_Competitive_1</th>\n",
              "      <th>Emp_Competitive_2</th>\n",
              "      <th>Emp_Competitive_3</th>\n",
              "      <th>Emp_Competitive_4</th>\n",
              "      <th>Emp_Competitive_5</th>\n",
              "      <th>Emp_Collaborative_1</th>\n",
              "      <th>Emp_Collaborative_2</th>\n",
              "      <th>Emp_Collaborative_3</th>\n",
              "      <th>Emp_Collaborative_4</th>\n",
              "      <th>Emp_Collaborative_5</th>\n",
              "      <th>Sensor_StepCount</th>\n",
              "      <th>Sensor_Heartbeat(Average/Min)</th>\n",
              "      <th>Sensor_Proximity(1-highest/10-lowest)</th>\n",
              "    </tr>\n",
              "  </thead>\n",
              "  <tbody>\n",
              "    <tr>\n",
              "      <th>count</th>\n",
              "      <td>14999.000000</td>\n",
              "      <td>21.0</td>\n",
              "      <td>14999.000000</td>\n",
              "      <td>480.0</td>\n",
              "      <td>14999.0</td>\n",
              "      <td>14999.0</td>\n",
              "      <td>14999.0</td>\n",
              "      <td>14999.000000</td>\n",
              "      <td>14871.0</td>\n",
              "      <td>14871.000000</td>\n",
              "      <td>14871.000000</td>\n",
              "      <td>14871.000000</td>\n",
              "      <td>14871.000000</td>\n",
              "      <td>14999.000000</td>\n",
              "      <td>14999.000000</td>\n",
              "      <td>14999.000000</td>\n",
              "      <td>14999.000000</td>\n",
              "      <td>14999.000000</td>\n",
              "      <td>14999.000000</td>\n",
              "      <td>14999.000000</td>\n",
              "      <td>14999.000000</td>\n",
              "      <td>14999.000000</td>\n",
              "      <td>14999.000000</td>\n",
              "      <td>14999.000000</td>\n",
              "      <td>14999.000000</td>\n",
              "      <td>14999.000000</td>\n",
              "      <td>14999.000000</td>\n",
              "      <td>14999.000000</td>\n",
              "      <td>14999.000000</td>\n",
              "      <td>1713.0</td>\n",
              "      <td>14999.000000</td>\n",
              "      <td>14999.000000</td>\n",
              "      <td>14999.000000</td>\n",
              "      <td>14999.000000</td>\n",
              "      <td>14999.000000</td>\n",
              "      <td>14999.000000</td>\n",
              "      <td>14999.000000</td>\n",
              "      <td>14999.000000</td>\n",
              "      <td>14999.000000</td>\n",
              "      <td>14999.000000</td>\n",
              "      <td>7596.000000</td>\n",
              "      <td>4865.000000</td>\n",
              "      <td>14999.000000</td>\n",
              "      <td>14999.000000</td>\n",
              "      <td>14999.000000</td>\n",
              "      <td>14999.000000</td>\n",
              "      <td>14999.000000</td>\n",
              "      <td>14999.000000</td>\n",
              "      <td>14999.000000</td>\n",
              "      <td>14999.000000</td>\n",
              "      <td>14999.000000</td>\n",
              "      <td>14999.000000</td>\n",
              "      <td>14999.000000</td>\n",
              "      <td>14999.000000</td>\n",
              "      <td>14999.000000</td>\n",
              "    </tr>\n",
              "    <tr>\n",
              "      <th>mean</th>\n",
              "      <td>7500.000000</td>\n",
              "      <td>1.0</td>\n",
              "      <td>0.499833</td>\n",
              "      <td>1.0</td>\n",
              "      <td>3.0</td>\n",
              "      <td>6.0</td>\n",
              "      <td>6.0</td>\n",
              "      <td>0.617321</td>\n",
              "      <td>3.0</td>\n",
              "      <td>2.731962</td>\n",
              "      <td>3.731962</td>\n",
              "      <td>2.731962</td>\n",
              "      <td>3.943649</td>\n",
              "      <td>2.839723</td>\n",
              "      <td>4.367691</td>\n",
              "      <td>3.367691</td>\n",
              "      <td>3.761784</td>\n",
              "      <td>3.973598</td>\n",
              "      <td>4.047670</td>\n",
              "      <td>4.285752</td>\n",
              "      <td>3.761917</td>\n",
              "      <td>3.523835</td>\n",
              "      <td>2.523835</td>\n",
              "      <td>0.716102</td>\n",
              "      <td>3.803054</td>\n",
              "      <td>201.050337</td>\n",
              "      <td>3.498233</td>\n",
              "      <td>0.144610</td>\n",
              "      <td>0.238083</td>\n",
              "      <td>5.0</td>\n",
              "      <td>0.021268</td>\n",
              "      <td>18.553904</td>\n",
              "      <td>3.001867</td>\n",
              "      <td>3.014468</td>\n",
              "      <td>3.005800</td>\n",
              "      <td>3.002867</td>\n",
              "      <td>2.141343</td>\n",
              "      <td>2.116274</td>\n",
              "      <td>1.998400</td>\n",
              "      <td>1.990066</td>\n",
              "      <td>0.707741</td>\n",
              "      <td>0.908530</td>\n",
              "      <td>2.156010</td>\n",
              "      <td>2.987199</td>\n",
              "      <td>2.144010</td>\n",
              "      <td>2.999067</td>\n",
              "      <td>2.987066</td>\n",
              "      <td>2.979532</td>\n",
              "      <td>1.676245</td>\n",
              "      <td>2.998533</td>\n",
              "      <td>3.005200</td>\n",
              "      <td>3.016934</td>\n",
              "      <td>3406.693246</td>\n",
              "      <td>77.967198</td>\n",
              "      <td>6.399360</td>\n",
              "    </tr>\n",
              "    <tr>\n",
              "      <th>std</th>\n",
              "      <td>4329.982679</td>\n",
              "      <td>0.0</td>\n",
              "      <td>0.500017</td>\n",
              "      <td>0.0</td>\n",
              "      <td>0.0</td>\n",
              "      <td>0.0</td>\n",
              "      <td>0.0</td>\n",
              "      <td>0.193841</td>\n",
              "      <td>0.0</td>\n",
              "      <td>0.681369</td>\n",
              "      <td>0.681369</td>\n",
              "      <td>0.681369</td>\n",
              "      <td>1.244511</td>\n",
              "      <td>0.776054</td>\n",
              "      <td>0.929979</td>\n",
              "      <td>0.929979</td>\n",
              "      <td>0.580834</td>\n",
              "      <td>1.367462</td>\n",
              "      <td>1.703696</td>\n",
              "      <td>1.277772</td>\n",
              "      <td>0.425924</td>\n",
              "      <td>0.851848</td>\n",
              "      <td>0.851848</td>\n",
              "      <td>0.171169</td>\n",
              "      <td>1.232592</td>\n",
              "      <td>49.943099</td>\n",
              "      <td>1.460136</td>\n",
              "      <td>0.351719</td>\n",
              "      <td>0.425924</td>\n",
              "      <td>0.0</td>\n",
              "      <td>0.144281</td>\n",
              "      <td>18.987335</td>\n",
              "      <td>1.413788</td>\n",
              "      <td>1.417319</td>\n",
              "      <td>1.418791</td>\n",
              "      <td>1.413008</td>\n",
              "      <td>1.023277</td>\n",
              "      <td>1.010454</td>\n",
              "      <td>0.865389</td>\n",
              "      <td>0.856232</td>\n",
              "      <td>0.454831</td>\n",
              "      <td>0.288306</td>\n",
              "      <td>1.032378</td>\n",
              "      <td>1.416793</td>\n",
              "      <td>1.030439</td>\n",
              "      <td>1.406128</td>\n",
              "      <td>1.412314</td>\n",
              "      <td>1.412579</td>\n",
              "      <td>0.865230</td>\n",
              "      <td>1.410058</td>\n",
              "      <td>1.410191</td>\n",
              "      <td>1.412225</td>\n",
              "      <td>1755.742272</td>\n",
              "      <td>7.252848</td>\n",
              "      <td>2.588091</td>\n",
              "    </tr>\n",
              "    <tr>\n",
              "      <th>min</th>\n",
              "      <td>1.000000</td>\n",
              "      <td>1.0</td>\n",
              "      <td>0.000000</td>\n",
              "      <td>1.0</td>\n",
              "      <td>3.0</td>\n",
              "      <td>6.0</td>\n",
              "      <td>6.0</td>\n",
              "      <td>0.400000</td>\n",
              "      <td>3.0</td>\n",
              "      <td>1.000000</td>\n",
              "      <td>2.000000</td>\n",
              "      <td>1.000000</td>\n",
              "      <td>1.000000</td>\n",
              "      <td>2.000000</td>\n",
              "      <td>3.000000</td>\n",
              "      <td>2.000000</td>\n",
              "      <td>3.000000</td>\n",
              "      <td>2.000000</td>\n",
              "      <td>1.000000</td>\n",
              "      <td>2.000000</td>\n",
              "      <td>3.000000</td>\n",
              "      <td>2.000000</td>\n",
              "      <td>1.000000</td>\n",
              "      <td>0.360000</td>\n",
              "      <td>2.000000</td>\n",
              "      <td>96.000000</td>\n",
              "      <td>2.000000</td>\n",
              "      <td>0.000000</td>\n",
              "      <td>0.000000</td>\n",
              "      <td>5.0</td>\n",
              "      <td>0.000000</td>\n",
              "      <td>1.000000</td>\n",
              "      <td>1.000000</td>\n",
              "      <td>1.000000</td>\n",
              "      <td>1.000000</td>\n",
              "      <td>1.000000</td>\n",
              "      <td>1.000000</td>\n",
              "      <td>1.000000</td>\n",
              "      <td>1.000000</td>\n",
              "      <td>1.000000</td>\n",
              "      <td>0.000000</td>\n",
              "      <td>0.000000</td>\n",
              "      <td>1.000000</td>\n",
              "      <td>1.000000</td>\n",
              "      <td>1.000000</td>\n",
              "      <td>1.000000</td>\n",
              "      <td>1.000000</td>\n",
              "      <td>1.000000</td>\n",
              "      <td>1.000000</td>\n",
              "      <td>1.000000</td>\n",
              "      <td>1.000000</td>\n",
              "      <td>1.000000</td>\n",
              "      <td>1000.000000</td>\n",
              "      <td>60.000000</td>\n",
              "      <td>1.000000</td>\n",
              "    </tr>\n",
              "    <tr>\n",
              "      <th>25%</th>\n",
              "      <td>3750.500000</td>\n",
              "      <td>1.0</td>\n",
              "      <td>0.000000</td>\n",
              "      <td>1.0</td>\n",
              "      <td>3.0</td>\n",
              "      <td>6.0</td>\n",
              "      <td>6.0</td>\n",
              "      <td>0.400000</td>\n",
              "      <td>3.0</td>\n",
              "      <td>3.000000</td>\n",
              "      <td>4.000000</td>\n",
              "      <td>3.000000</td>\n",
              "      <td>4.000000</td>\n",
              "      <td>2.000000</td>\n",
              "      <td>3.000000</td>\n",
              "      <td>2.000000</td>\n",
              "      <td>3.000000</td>\n",
              "      <td>2.000000</td>\n",
              "      <td>5.000000</td>\n",
              "      <td>5.000000</td>\n",
              "      <td>4.000000</td>\n",
              "      <td>4.000000</td>\n",
              "      <td>3.000000</td>\n",
              "      <td>0.560000</td>\n",
              "      <td>3.000000</td>\n",
              "      <td>156.000000</td>\n",
              "      <td>3.000000</td>\n",
              "      <td>0.000000</td>\n",
              "      <td>0.000000</td>\n",
              "      <td>5.0</td>\n",
              "      <td>0.000000</td>\n",
              "      <td>5.000000</td>\n",
              "      <td>2.000000</td>\n",
              "      <td>2.000000</td>\n",
              "      <td>2.000000</td>\n",
              "      <td>2.000000</td>\n",
              "      <td>1.000000</td>\n",
              "      <td>1.000000</td>\n",
              "      <td>1.000000</td>\n",
              "      <td>1.000000</td>\n",
              "      <td>0.000000</td>\n",
              "      <td>1.000000</td>\n",
              "      <td>1.000000</td>\n",
              "      <td>2.000000</td>\n",
              "      <td>1.000000</td>\n",
              "      <td>2.000000</td>\n",
              "      <td>2.000000</td>\n",
              "      <td>2.000000</td>\n",
              "      <td>1.000000</td>\n",
              "      <td>2.000000</td>\n",
              "      <td>2.000000</td>\n",
              "      <td>2.000000</td>\n",
              "      <td>1704.500000</td>\n",
              "      <td>75.000000</td>\n",
              "      <td>5.000000</td>\n",
              "    </tr>\n",
              "    <tr>\n",
              "      <th>50%</th>\n",
              "      <td>7500.000000</td>\n",
              "      <td>1.0</td>\n",
              "      <td>0.000000</td>\n",
              "      <td>1.0</td>\n",
              "      <td>3.0</td>\n",
              "      <td>6.0</td>\n",
              "      <td>6.0</td>\n",
              "      <td>0.800000</td>\n",
              "      <td>3.0</td>\n",
              "      <td>3.000000</td>\n",
              "      <td>4.000000</td>\n",
              "      <td>3.000000</td>\n",
              "      <td>4.000000</td>\n",
              "      <td>3.000000</td>\n",
              "      <td>5.000000</td>\n",
              "      <td>4.000000</td>\n",
              "      <td>4.000000</td>\n",
              "      <td>5.000000</td>\n",
              "      <td>5.000000</td>\n",
              "      <td>5.000000</td>\n",
              "      <td>4.000000</td>\n",
              "      <td>4.000000</td>\n",
              "      <td>3.000000</td>\n",
              "      <td>0.720000</td>\n",
              "      <td>4.000000</td>\n",
              "      <td>200.000000</td>\n",
              "      <td>3.000000</td>\n",
              "      <td>0.000000</td>\n",
              "      <td>0.000000</td>\n",
              "      <td>5.0</td>\n",
              "      <td>0.000000</td>\n",
              "      <td>9.000000</td>\n",
              "      <td>3.000000</td>\n",
              "      <td>3.000000</td>\n",
              "      <td>3.000000</td>\n",
              "      <td>3.000000</td>\n",
              "      <td>2.000000</td>\n",
              "      <td>2.000000</td>\n",
              "      <td>2.000000</td>\n",
              "      <td>2.000000</td>\n",
              "      <td>1.000000</td>\n",
              "      <td>1.000000</td>\n",
              "      <td>2.000000</td>\n",
              "      <td>3.000000</td>\n",
              "      <td>2.000000</td>\n",
              "      <td>3.000000</td>\n",
              "      <td>3.000000</td>\n",
              "      <td>3.000000</td>\n",
              "      <td>2.000000</td>\n",
              "      <td>3.000000</td>\n",
              "      <td>3.000000</td>\n",
              "      <td>3.000000</td>\n",
              "      <td>3376.000000</td>\n",
              "      <td>78.000000</td>\n",
              "      <td>7.000000</td>\n",
              "    </tr>\n",
              "    <tr>\n",
              "      <th>75%</th>\n",
              "      <td>11249.500000</td>\n",
              "      <td>1.0</td>\n",
              "      <td>1.000000</td>\n",
              "      <td>1.0</td>\n",
              "      <td>3.0</td>\n",
              "      <td>6.0</td>\n",
              "      <td>6.0</td>\n",
              "      <td>0.800000</td>\n",
              "      <td>3.0</td>\n",
              "      <td>3.000000</td>\n",
              "      <td>4.000000</td>\n",
              "      <td>3.000000</td>\n",
              "      <td>5.000000</td>\n",
              "      <td>3.000000</td>\n",
              "      <td>5.000000</td>\n",
              "      <td>4.000000</td>\n",
              "      <td>4.000000</td>\n",
              "      <td>5.000000</td>\n",
              "      <td>5.000000</td>\n",
              "      <td>5.000000</td>\n",
              "      <td>4.000000</td>\n",
              "      <td>4.000000</td>\n",
              "      <td>3.000000</td>\n",
              "      <td>0.870000</td>\n",
              "      <td>5.000000</td>\n",
              "      <td>245.000000</td>\n",
              "      <td>4.000000</td>\n",
              "      <td>0.000000</td>\n",
              "      <td>0.000000</td>\n",
              "      <td>5.0</td>\n",
              "      <td>0.000000</td>\n",
              "      <td>31.000000</td>\n",
              "      <td>4.000000</td>\n",
              "      <td>4.000000</td>\n",
              "      <td>4.000000</td>\n",
              "      <td>4.000000</td>\n",
              "      <td>3.000000</td>\n",
              "      <td>3.000000</td>\n",
              "      <td>2.000000</td>\n",
              "      <td>2.000000</td>\n",
              "      <td>1.000000</td>\n",
              "      <td>1.000000</td>\n",
              "      <td>3.000000</td>\n",
              "      <td>4.000000</td>\n",
              "      <td>3.000000</td>\n",
              "      <td>4.000000</td>\n",
              "      <td>4.000000</td>\n",
              "      <td>4.000000</td>\n",
              "      <td>2.000000</td>\n",
              "      <td>4.000000</td>\n",
              "      <td>4.000000</td>\n",
              "      <td>4.000000</td>\n",
              "      <td>4893.000000</td>\n",
              "      <td>85.000000</td>\n",
              "      <td>8.000000</td>\n",
              "    </tr>\n",
              "    <tr>\n",
              "      <th>max</th>\n",
              "      <td>14999.000000</td>\n",
              "      <td>1.0</td>\n",
              "      <td>1.000000</td>\n",
              "      <td>1.0</td>\n",
              "      <td>3.0</td>\n",
              "      <td>6.0</td>\n",
              "      <td>6.0</td>\n",
              "      <td>1.000000</td>\n",
              "      <td>3.0</td>\n",
              "      <td>3.000000</td>\n",
              "      <td>4.000000</td>\n",
              "      <td>3.000000</td>\n",
              "      <td>5.000000</td>\n",
              "      <td>5.000000</td>\n",
              "      <td>5.000000</td>\n",
              "      <td>4.000000</td>\n",
              "      <td>5.000000</td>\n",
              "      <td>5.000000</td>\n",
              "      <td>5.000000</td>\n",
              "      <td>5.000000</td>\n",
              "      <td>4.000000</td>\n",
              "      <td>4.000000</td>\n",
              "      <td>3.000000</td>\n",
              "      <td>1.000000</td>\n",
              "      <td>7.000000</td>\n",
              "      <td>310.000000</td>\n",
              "      <td>10.000000</td>\n",
              "      <td>1.000000</td>\n",
              "      <td>1.000000</td>\n",
              "      <td>5.0</td>\n",
              "      <td>1.000000</td>\n",
              "      <td>65.000000</td>\n",
              "      <td>5.000000</td>\n",
              "      <td>5.000000</td>\n",
              "      <td>5.000000</td>\n",
              "      <td>5.000000</td>\n",
              "      <td>5.000000</td>\n",
              "      <td>5.000000</td>\n",
              "      <td>5.000000</td>\n",
              "      <td>5.000000</td>\n",
              "      <td>1.000000</td>\n",
              "      <td>1.000000</td>\n",
              "      <td>5.000000</td>\n",
              "      <td>5.000000</td>\n",
              "      <td>5.000000</td>\n",
              "      <td>5.000000</td>\n",
              "      <td>5.000000</td>\n",
              "      <td>5.000000</td>\n",
              "      <td>5.000000</td>\n",
              "      <td>5.000000</td>\n",
              "      <td>5.000000</td>\n",
              "      <td>5.000000</td>\n",
              "      <td>8500.000000</td>\n",
              "      <td>90.000000</td>\n",
              "      <td>10.000000</td>\n",
              "    </tr>\n",
              "  </tbody>\n",
              "</table>\n",
              "</div>"
            ],
            "text/plain": [
              "                 ID  ...  Sensor_Proximity(1-highest/10-lowest)\n",
              "count  14999.000000  ...                           14999.000000\n",
              "mean    7500.000000  ...                               6.399360\n",
              "std     4329.982679  ...                               2.588091\n",
              "min        1.000000  ...                               1.000000\n",
              "25%     3750.500000  ...                               5.000000\n",
              "50%     7500.000000  ...                               7.000000\n",
              "75%    11249.500000  ...                               8.000000\n",
              "max    14999.000000  ...                              10.000000\n",
              "\n",
              "[8 rows x 55 columns]"
            ]
          },
          "metadata": {
            "tags": []
          },
          "execution_count": 12
        }
      ]
    },
    {
      "cell_type": "code",
      "metadata": {
        "id": "C2IanEYvJkoj",
        "colab_type": "code",
        "colab": {}
      },
      "source": [
        "data.drop(['ID','Name','Rising_Star','Critical','Trending Perf','Talent_Level','Validated_Talent_Level','EMP_Sat_OnPrem_1','CSR Factor','sales','Women_Leave',\n",
        "           'Men_Leave','EMP_Sat_OnPrem_2','EMP_Sat_OnPrem_3','EMP_Sat_OnPrem_4','EMP_Sat_OnPrem_5', 'EMP_Sat_Remote_3',\t'EMP_Sat_Remote_4'], axis = 1, inplace = True)"
      ],
      "execution_count": 13,
      "outputs": []
    },
    {
      "cell_type": "code",
      "metadata": {
        "id": "cI8CJ5nvRRmr",
        "colab_type": "code",
        "colab": {
          "base_uri": "https://localhost:8080/",
          "height": 782
        },
        "outputId": "d39ce945-afb7-4a8f-ea20-0a6dbcaa9e50"
      },
      "source": [
        "#verificando se ainda há valores nulos\n",
        "data.isna().sum()"
      ],
      "execution_count": 14,
      "outputs": [
        {
          "output_type": "execute_result",
          "data": {
            "text/plain": [
              "Department                               0\n",
              "GEO                                      0\n",
              "Role                                     0\n",
              "Will_Relocate                            0\n",
              "Percent_Remote                           0\n",
              "EMP_Sat_Remote_1                         0\n",
              "EMP_Sat_Remote_2                         0\n",
              "EMP_Sat_Remote_5                         0\n",
              "EMP_Engagement_1                         0\n",
              "EMP_Engagement_2                         0\n",
              "EMP_Engagement_3                         0\n",
              "EMP_Engagement_4                         0\n",
              "EMP_Engagement_5                         0\n",
              "last_evaluation                          0\n",
              "number_project                           0\n",
              "average_montly_hours                     0\n",
              "time_spend_company                       0\n",
              "Work_accident                            0\n",
              "left_Company                             0\n",
              "promotion_last_5years                    0\n",
              "salary                                   0\n",
              "Gender                                   0\n",
              "LinkedIn_Hits                            0\n",
              "Emp_Work_Status2                         0\n",
              "Emp_Work_Status_3                        0\n",
              "Emp_Work_Status_4                        0\n",
              "Emp_Work_Status_5                        0\n",
              "Emp_Identity                             0\n",
              "Emp_Role                                 0\n",
              "Emp_Position                             0\n",
              "Emp_Title                                0\n",
              "Emp_Competitive_1                        0\n",
              "Emp_Competitive_2                        0\n",
              "Emp_Competitive_3                        0\n",
              "Emp_Competitive_4                        0\n",
              "Emp_Competitive_5                        0\n",
              "Emp_Collaborative_1                      0\n",
              "Emp_Collaborative_2                      0\n",
              "Emp_Collaborative_3                      0\n",
              "Emp_Collaborative_4                      0\n",
              "Emp_Collaborative_5                      0\n",
              "Sensor_StepCount                         0\n",
              "Sensor_Heartbeat(Average/Min)            0\n",
              "Sensor_Proximity(1-highest/10-lowest)    0\n",
              "dtype: int64"
            ]
          },
          "metadata": {
            "tags": []
          },
          "execution_count": 14
        }
      ]
    },
    {
      "cell_type": "markdown",
      "metadata": {
        "id": "NKzSiE0ZY5zb",
        "colab_type": "text"
      },
      "source": [
        "## Data Analysis"
      ]
    },
    {
      "cell_type": "code",
      "metadata": {
        "id": "ruzrU2xeTPY1",
        "colab_type": "code",
        "colab": {
          "base_uri": "https://localhost:8080/",
          "height": 136
        },
        "outputId": "4f16d585-288f-4ad7-9124-e02d97d6028a"
      },
      "source": [
        "data.Department.value_counts()"
      ],
      "execution_count": 15,
      "outputs": [
        {
          "output_type": "execute_result",
          "data": {
            "text/plain": [
              "IT                 2500\n",
              "Sales              2500\n",
              "Finance            2500\n",
              "Operations         2500\n",
              "Human Resources    2500\n",
              "Warehouse          2499\n",
              "Name: Department, dtype: int64"
            ]
          },
          "metadata": {
            "tags": []
          },
          "execution_count": 15
        }
      ]
    },
    {
      "cell_type": "markdown",
      "metadata": {
        "id": "Qx42bZj_b0eW",
        "colab_type": "text"
      },
      "source": [
        "Os departamentos de cada empregado estão quase dividos perfeitamente "
      ]
    },
    {
      "cell_type": "code",
      "metadata": {
        "id": "wXntJkODS-NM",
        "colab_type": "code",
        "colab": {
          "base_uri": "https://localhost:8080/",
          "height": 357
        },
        "outputId": "c889093c-d5dc-428d-fb2d-9280a0625dd1"
      },
      "source": [
        "group = data.groupby(by=['left_Company','GEO'])['Department'].count()\n",
        "group"
      ],
      "execution_count": 16,
      "outputs": [
        {
          "output_type": "execute_result",
          "data": {
            "text/plain": [
              "left_Company  GEO      \n",
              "0             Australia    1228\n",
              "              China        1264\n",
              "              Colombia     1251\n",
              "              France       1296\n",
              "              Japan        1269\n",
              "              Korea        1300\n",
              "              Turkey       1244\n",
              "              UK           1337\n",
              "              US           1239\n",
              "1             Australia     349\n",
              "              China         403\n",
              "              Colombia      408\n",
              "              France        403\n",
              "              Japan         400\n",
              "              Korea         385\n",
              "              Turkey        395\n",
              "              UK            435\n",
              "              US            393\n",
              "Name: Department, dtype: int64"
            ]
          },
          "metadata": {
            "tags": []
          },
          "execution_count": 16
        }
      ]
    },
    {
      "cell_type": "markdown",
      "metadata": {
        "id": "xGrXNPQ8-lG3",
        "colab_type": "text"
      },
      "source": [
        "O agrupamento acima nos mostra a quantidade de pessoas que estão empregadas (0) e não estão empregadas na empresa (1) por país. Pode-se notar o grupo dominante em cada país relativo, é o de quem se manteve na empresa. Além disso, percebe-se a quantidade de pessoas em cada país, é equilibrada em seu grupo (contratados e quem não está mais empregado)\n",
        "\n",
        "Obs: Selecionei o atributo \"Department\" aleatoriamente pois qualquer coluna nos traria a mesma contagem."
      ]
    },
    {
      "cell_type": "code",
      "metadata": {
        "id": "eqjs5miTZN-x",
        "colab_type": "code",
        "colab": {
          "base_uri": "https://localhost:8080/",
          "height": 503
        },
        "outputId": "77796c2d-3453-49bc-c987-56ca98ab0618"
      },
      "source": [
        "ax = sns.countplot(data.left_Company, palette=\"Set2\")\n",
        "ax.figure.set_size_inches(12, 8)\n",
        "ax.set_ylabel('Quantidade', fontsize= 13)\n",
        "ax.set_xlabel('')\n",
        "ax.set_xticklabels(['Funcionário','Ex-Funcionário'], fontsize=13)\n",
        "ax"
      ],
      "execution_count": 17,
      "outputs": [
        {
          "output_type": "execute_result",
          "data": {
            "text/plain": [
              "<matplotlib.axes._subplots.AxesSubplot at 0x7f8e37a48748>"
            ]
          },
          "metadata": {
            "tags": []
          },
          "execution_count": 17
        },
        {
          "output_type": "display_data",
          "data": {
            "image/png": "[encoded data removed]",
            "text/plain": [
              "<Figure size 864x576 with 1 Axes>"
            ]
          },
          "metadata": {
            "tags": [],
            "needs_background": "light"
          }
        }
      ]
    },
    {
      "cell_type": "markdown",
      "metadata": {
        "id": "3ROE6cYBccbV",
        "colab_type": "text"
      },
      "source": [
        "Concluí-se que há bem mais empregados atualmente do que quem não está mais na empresas, nessa amostra."
      ]
    },
    {
      "cell_type": "code",
      "metadata": {
        "id": "c9TaOwIicFpD",
        "colab_type": "code",
        "colab": {
          "base_uri": "https://localhost:8080/",
          "height": 446
        },
        "outputId": "65d46554-d88a-4085-c762-0d6b059e6b8f"
      },
      "source": [
        "ax = sns.catplot(x='left_Company', y='average_montly_hours', data=data, height=6, aspect=2, palette=\"Set2\")\n",
        "ax.set_ylabels('Média de horas mensais na empresa', fontsize=13)\n",
        "ax.set_xlabels('')\n",
        "ax.set_xticklabels(['Funcionário','Ex-Funcionário'], fontsize=13)\n",
        "ax"
      ],
      "execution_count": 18,
      "outputs": [
        {
          "output_type": "execute_result",
          "data": {
            "text/plain": [
              "<seaborn.axisgrid.FacetGrid at 0x7f8e5db37048>"
            ]
          },
          "metadata": {
            "tags": []
          },
          "execution_count": 18
        },
        {
          "output_type": "display_data",
          "data": {
            "image/png": "[encoded data removed]",
            "text/plain": [
              "<Figure size 864x432 with 1 Axes>"
            ]
          },
          "metadata": {
            "tags": [],
            "needs_background": "light"
          }
        }
      ]
    },
    {
      "cell_type": "markdown",
      "metadata": {
        "id": "k43qZrcyefYp",
        "colab_type": "text"
      },
      "source": [
        "Notas:\n",
        "\n",
        "1. A menor média de hora gasta trabalhando está no grupo dos empregados da empresa.\n",
        "2. A  maior média de hora gasta trabalhando está no grupo de quem não é mais empregado da empresa\n",
        "3. Os dados de média de hora gasta trabalhando de quem não está mais na empresa é mais disperso em relação a quem é contratado. Pode se notar que entre aproximadamente 160 e 210 horas, há poucos dados de quem deixou o trabalho."
      ]
    },
    {
      "cell_type": "code",
      "metadata": {
        "id": "SoA9g5QZdy9g",
        "colab_type": "code",
        "colab": {
          "base_uri": "https://localhost:8080/",
          "height": 503
        },
        "outputId": "5954a56c-c04e-4abe-da77-ee327ff46f96"
      },
      "source": [
        "ax = sns.violinplot(x='left_Company', y='last_evaluation', data=data, palette=\"Set2\", scale='count') #mostrando o acumulo dos dados \n",
        "ax.figure.set_size_inches(12, 8)\n",
        "ax.set_ylabel('Score da última avaliação', fontsize=13)\n",
        "ax.set_xlabel('')\n",
        "ax.set_xticklabels(['Funcionário','Ex-Funcionário'], fontsize=13)\n",
        "ax"
      ],
      "execution_count": 19,
      "outputs": [
        {
          "output_type": "execute_result",
          "data": {
            "text/plain": [
              "<matplotlib.axes._subplots.AxesSubplot at 0x7f8e34c86470>"
            ]
          },
          "metadata": {
            "tags": []
          },
          "execution_count": 19
        },
        {
          "output_type": "display_data",
          "data": {
            "image/png": "[encoded data removed]",
            "text/plain": [
              "<Figure size 864x576 with 1 Axes>"
            ]
          },
          "metadata": {
            "tags": [],
            "needs_background": "light"
          }
        }
      ]
    },
    {
      "cell_type": "markdown",
      "metadata": {
        "id": "LqifXvIVh7ru",
        "colab_type": "text"
      },
      "source": [
        "Acima há um gráfico de comparação interessante, eu plotei este gráfico para ver a relação entre o score da avaliação de quem deixou e quem ainda está na empresa. Pode-se observar que quem é empregado na empresa tem a forma do Violino(densidade) mais larga, enquanto que quem não permaneceu empregado tem grande acúmulo entre 0.4 e 0.6 e depois em 0.8 e 1. \n",
        "\n",
        "Ou seja, há diferença entre as distribuições da última avaliação realizada entre os que continuam e os que não continuam na empresa e a distribuição dos que saíram é bimodal, com as avaliações concentradas nos extremos do Violino."
      ]
    },
    {
      "cell_type": "code",
      "metadata": {
        "id": "tiTneJ7TJY0o",
        "colab_type": "code",
        "colab": {
          "base_uri": "https://localhost:8080/",
          "height": 503
        },
        "outputId": "e2d1fe3f-866d-4e93-99dc-0edeb0feeced"
      },
      "source": [
        "ax = sns.boxplot(x='left_Company', y='time_spend_company', hue='salary', data=data, palette=\"Set2\")\n",
        "ax.figure.set_size_inches(12,8)\n",
        "ax.set_ylabel('Tempo gasto na empresa (em anos)')\n",
        "ax.set_xlabel('')\n",
        "ax.set_xticklabels(['Funcionário','Ex-Funcionário'], fontsize=13)\n",
        "ax"
      ],
      "execution_count": 20,
      "outputs": [
        {
          "output_type": "execute_result",
          "data": {
            "text/plain": [
              "<matplotlib.axes._subplots.AxesSubplot at 0x7f8e34c5f550>"
            ]
          },
          "metadata": {
            "tags": []
          },
          "execution_count": 20
        },
        {
          "output_type": "display_data",
          "data": {
            "image/png": "[encoded data removed]",
            "text/plain": [
              "<Figure size 864x576 with 1 Axes>"
            ]
          },
          "metadata": {
            "tags": [],
            "needs_background": "light"
          }
        }
      ]
    },
    {
      "cell_type": "markdown",
      "metadata": {
        "id": "-6UtaqcLb1k5",
        "colab_type": "text"
      },
      "source": [
        "O gráfico acima mostra os tempo gasto na empresa por quem ainda se manteve na empresa e quem já não é mais funcionário e por salário. <br>\n",
        "Observavções:\n",
        "\n",
        "1. Os boxplots se mantiveram estáveis em relação aos sários e anos de empresa para quem ainda é empregado\n",
        "2. Em relação a quem já não é mais empregados, enquanto os salários baixos e médios tem quartis idênticos, o salário alto difere um pouco. O limite superior (que delimita o máximo de horas gastas na empresa) de quem tinha salário alto é igual a 75% de quem ganhava menos, já por outro lado, seu limite inferor (delimita o mínimo de horas gastas) é maior que o mínimo de quem ganhava um salário menor.\n",
        "3. Comparando os dois grupos, podemos afirmar que 75% das pessoas do grupo da esquerda, trabalham há 4 anos, enquanto que 75% das pessoas que tinham salários médios e baixos do grupo da direita trabalhavam há 5 anos.\n",
        "4. A variabilidade dos funcionários da empresa é maior do que quem não é mais funcionário.\n",
        "5. Com exceção do salário alto de quem está mais vinculado à empresa, todos os dados são simétricos. (mediana no centro do BoxPlot)"
      ]
    },
    {
      "cell_type": "code",
      "metadata": {
        "id": "ufr9JPnzJz6q",
        "colab_type": "code",
        "colab": {
          "base_uri": "https://localhost:8080/",
          "height": 501
        },
        "outputId": "06dab219-9ae6-4ca8-8c79-1aa94513c0d4"
      },
      "source": [
        "ax = sns.barplot(x='left_Company', y='LinkedIn_Hits', hue='promotion_last_5years', data=data, palette=\"Set2\")\n",
        "ax.figure.set_size_inches(12,8)\n",
        "ax.set_xticklabels(['Funcionário','Ex-Funcionário'], fontsize=13)\n",
        "\n",
        "import matplotlib.patches as mpatches\n",
        "green = mpatches.Patch(color='lightseagreen', label='Não')\n",
        "pink = mpatches.Patch(color='lightcoral', label='Sim')\n",
        "plt.legend(title='Foi promovido nos últimos 5 anos?', loc='upper left', handles = [green, pink])\n",
        "\n",
        "plt.show()"
      ],
      "execution_count": 21,
      "outputs": [
        {
          "output_type": "display_data",
          "data": {
            "image/png": "[encoded data removed]",
            "text/plain": [
              "<Figure size 864x576 with 1 Axes>"
            ]
          },
          "metadata": {
            "tags": [],
            "needs_background": "light"
          }
        }
      ]
    },
    {
      "cell_type": "markdown",
      "metadata": {
        "id": "_BfJJahNf1wa",
        "colab_type": "text"
      },
      "source": [
        "Está linha preta no meio da barra mostra o quão disperso os dados são, ou seja, quanto maior a linha, maior o desvio-padrão dos dados. Seguindo esse raciocínio, quem se desligou da empresa e tinha sido promovido nos últimos anos tem os maiores hits no LinkedIn, contudo, é o que tem mais desvio-padrão, logo não podemos confiar. As outras informações estão bem semelhantes com hits de LinkedIn por volta de 18."
      ]
    },
    {
      "cell_type": "code",
      "metadata": {
        "id": "rvTS2L__ihGW",
        "colab_type": "code",
        "colab": {
          "base_uri": "https://localhost:8080/",
          "height": 697
        },
        "outputId": "fc2003c3-8ea4-42ab-96c8-1ae8204f09d0"
      },
      "source": [
        "#Observando a correlação dos dados com a variável de quem largou a empresa\n",
        "data.corr()['left_Company']"
      ],
      "execution_count": 22,
      "outputs": [
        {
          "output_type": "execute_result",
          "data": {
            "text/plain": [
              "Will_Relocate                           -0.009049\n",
              "Percent_Remote                          -0.007150\n",
              "EMP_Sat_Remote_1                        -0.045921\n",
              "EMP_Sat_Remote_2                        -0.161264\n",
              "EMP_Sat_Remote_5                        -0.178896\n",
              "EMP_Engagement_1                        -1.000000\n",
              "EMP_Engagement_2                        -1.000000\n",
              "EMP_Engagement_3                        -1.000000\n",
              "EMP_Engagement_4                        -1.000000\n",
              "EMP_Engagement_5                        -1.000000\n",
              "last_evaluation                          0.006567\n",
              "number_project                           0.023787\n",
              "average_montly_hours                     0.071287\n",
              "time_spend_company                       0.144822\n",
              "Work_accident                           -0.154622\n",
              "left_Company                             1.000000\n",
              "promotion_last_5years                   -0.061788\n",
              "LinkedIn_Hits                           -0.006695\n",
              "Emp_Work_Status2                        -0.003396\n",
              "Emp_Work_Status_3                        0.001363\n",
              "Emp_Work_Status_4                        0.005438\n",
              "Emp_Work_Status_5                        0.006953\n",
              "Emp_Identity                            -0.344017\n",
              "Emp_Role                                -0.346598\n",
              "Emp_Position                            -0.323851\n",
              "Emp_Title                               -0.320411\n",
              "Emp_Competitive_1                       -0.320419\n",
              "Emp_Competitive_2                        0.004609\n",
              "Emp_Competitive_3                       -0.325298\n",
              "Emp_Competitive_4                       -0.010428\n",
              "Emp_Competitive_5                       -0.010620\n",
              "Emp_Collaborative_1                      0.011203\n",
              "Emp_Collaborative_2                      0.001109\n",
              "Emp_Collaborative_3                      0.015902\n",
              "Emp_Collaborative_4                     -0.012718\n",
              "Emp_Collaborative_5                      0.001943\n",
              "Sensor_StepCount                        -0.333143\n",
              "Sensor_Heartbeat(Average/Min)            0.079301\n",
              "Sensor_Proximity(1-highest/10-lowest)   -0.001822\n",
              "Name: left_Company, dtype: float64"
            ]
          },
          "metadata": {
            "tags": []
          },
          "execution_count": 22
        }
      ]
    },
    {
      "cell_type": "code",
      "metadata": {
        "id": "28VTH3T2fzUE",
        "colab_type": "code",
        "colab": {
          "base_uri": "https://localhost:8080/",
          "height": 136
        },
        "outputId": "ed9d1bbf-39a5-4f01-bb4e-1fc8a6b2044c"
      },
      "source": [
        "#correlação\n",
        "corr = data.corr()\n",
        "\n",
        "#valores absolutos\n",
        "corr_target = abs(corr['left_Company'])\n",
        "\n",
        "#Selecionando as features com maior correlação com a variável dependente\n",
        "relevant_features = corr_target[corr_target>0.5]\n",
        "relevant_features"
      ],
      "execution_count": 23,
      "outputs": [
        {
          "output_type": "execute_result",
          "data": {
            "text/plain": [
              "EMP_Engagement_1    1.0\n",
              "EMP_Engagement_2    1.0\n",
              "EMP_Engagement_3    1.0\n",
              "EMP_Engagement_4    1.0\n",
              "EMP_Engagement_5    1.0\n",
              "left_Company        1.0\n",
              "Name: left_Company, dtype: float64"
            ]
          },
          "metadata": {
            "tags": []
          },
          "execution_count": 23
        }
      ]
    },
    {
      "cell_type": "markdown",
      "metadata": {
        "id": "aUaGVwLVlSZJ",
        "colab_type": "text"
      },
      "source": [
        "Percebemos que há atributos no dataset que tem correlação de 100% com a variável dependente e que irão enviesar o modelo de machine learning, logo, iremos descarta-las."
      ]
    },
    {
      "cell_type": "code",
      "metadata": {
        "id": "G24BZ2P0lQ5M",
        "colab_type": "code",
        "colab": {}
      },
      "source": [
        "data.drop(['EMP_Engagement_1','EMP_Engagement_2','EMP_Engagement_3','EMP_Engagement_4','EMP_Engagement_5'], axis = 1, inplace = True)"
      ],
      "execution_count": 24,
      "outputs": []
    },
    {
      "cell_type": "markdown",
      "metadata": {
        "id": "z6deYrK0g_xH",
        "colab_type": "text"
      },
      "source": [
        "Irei comparar visualmente e estatísticamente a frequência de projetos dos funcionários atuais e ex-funcionários."
      ]
    },
    {
      "cell_type": "code",
      "metadata": {
        "id": "gD5WLh8gSgWh",
        "colab_type": "code",
        "colab": {
          "base_uri": "https://localhost:8080/",
          "height": 376
        },
        "outputId": "c2f86993-67e2-4033-9579-765a38d2e3ba"
      },
      "source": [
        "employee = data.query('left_Company == 0')['number_project']\n",
        "ex_employee = data.query('left_Company == 1')['number_project']\n",
        "\n",
        "plt.figure(figsize=(17,12))\n",
        "\n",
        "plt.subplot(2, 2, 1)\n",
        "sns.distplot(employee)\n",
        "\n",
        "plt.subplot(2, 2, 2)\n",
        "sns.distplot(ex_employee)"
      ],
      "execution_count": 25,
      "outputs": [
        {
          "output_type": "execute_result",
          "data": {
            "text/plain": [
              "<matplotlib.axes._subplots.AxesSubplot at 0x7f8e34ad5978>"
            ]
          },
          "metadata": {
            "tags": []
          },
          "execution_count": 25
        },
        {
          "output_type": "display_data",
          "data": {
            "image/png": "[encoded data removed]",
            "text/plain": [
              "<Figure size 1224x864 with 2 Axes>"
            ]
          },
          "metadata": {
            "tags": [],
            "needs_background": "light"
          }
        }
      ]
    },
    {
      "cell_type": "markdown",
      "metadata": {
        "id": "fNU60kKbZe_8",
        "colab_type": "text"
      },
      "source": [
        "## Teste de hipótese"
      ]
    },
    {
      "cell_type": "markdown",
      "metadata": {
        "id": "03UoGDQZZdLI",
        "colab_type": "text"
      },
      "source": [
        "Teste de hipótese é uma ferramenta estatística para a tomada de decisões. Tendo como base a teoria da probabilidade, é possível a generalização de uma amostra para a população. Para fazermos isso, é necessário formular hipóteses estatísticas, que são suposições que podem ou não ser verdadeiras. Ou seja, essa metodologia nos ajuda a tomar decisões com base em parâmetros estabelecidos. Por meio do teste de hipótese buscamos responder a pergunta \"Os dados da minha amostram se comportam da mesma maneira ou diferente de dados da População?\", dito isso, iremos utilizar as libs scipy e statsmodels, aplicando o método ztest.\n",
        "Qualquer que seja a decisão tomada, estamos sujeitos a cometer erros: \n",
        "\n",
        "• Erro de tipo I: rejeitar H0(Hipótese nula), quando ela é verdadeira.<br>\n",
        "• Erro de tipo II: não rejeitar H0, quando ela é falsa. (são chamadas de Alfa e Beta, respectivamente)\n",
        "\n",
        "OBS: Devemos tomar como H0 aquela hipótese que, rejeitada, conduza a um erro de tipo I mais importante de evitar.\n",
        "\n"
      ]
    },
    {
      "cell_type": "markdown",
      "metadata": {
        "id": "EVHGYZ23YW71",
        "colab_type": "text"
      },
      "source": [
        "### Escolhendo a hipótese nula e a alternativa:\n",
        "H0 = A distribuição do número de projetos não difere entre as pessoas que saíram e as que permanecem na empresa.\n",
        "\n",
        "H1 = A distribuição do número de projetos difere entre as pessoas que saíram e as que permanecem na empresa."
      ]
    },
    {
      "cell_type": "code",
      "metadata": {
        "id": "p-u5n-vJW9Ba",
        "colab_type": "code",
        "colab": {
          "base_uri": "https://localhost:8080/",
          "height": 34
        },
        "outputId": "e1f0749c-6404-45d1-a5c4-d8b37503f646"
      },
      "source": [
        "ztest, pvalue = stests.ztest(x1=employee, x2=ex_employee)\n",
        "if pvalue < 0.05:\n",
        "  print('Como o p-value: {:.3f} e é menor que 5% temos evidências o suficiente para rejeitar a hipótese nula'.format(pvalue))\n",
        "else:\n",
        "  print('Como o p-value: {:.3f} e é maior que 5% não temos evidências o suficiente para rejeitar a hipótese nula'.format(pvalue))"
      ],
      "execution_count": 26,
      "outputs": [
        {
          "output_type": "stream",
          "text": [
            "Como o p-value: 0.004 e é menor que 5% temos evidências o suficiente para rejeitar a hipótese nula\n"
          ],
          "name": "stdout"
        }
      ]
    },
    {
      "cell_type": "markdown",
      "metadata": {
        "id": "JgCfrk_dVrAJ",
        "colab_type": "text"
      },
      "source": [
        "Em relação ao gráfico, aparentemente o número de projetos feitos por funcionários atuais é maior que os dos exs funcionários mas como explicado previamente ao fazer o teste de hipótese, podemos generalizar para toda a população.\n",
        "\n",
        "O resultado deu um p-value que rejeita a hipótese nula, já que é menor de 0.05. Ou seja, podemos afirmar que a distribuição do número de projetos difere entre as pessoas que saíram e as que permanecem na empresa."
      ]
    },
    {
      "cell_type": "markdown",
      "metadata": {
        "id": "u3ypcUllQb4p",
        "colab_type": "text"
      },
      "source": [
        "# O problema"
      ]
    },
    {
      "cell_type": "markdown",
      "metadata": {
        "id": "q-EPH4ZyQfQ3",
        "colab_type": "text"
      },
      "source": [
        "Iremos fazer um modelo de Machine Learning que tenta prever se um empregado vai ou não deixar a empresa de acordo com as informações dadas no Dataset tais como de qual país ele veio, se foi promovido no últimos 5 anos, anos de trabalho na empresa, entre outros.\n",
        "\n",
        "Nesse sentido, nossa variável dependente (y) será \"left_Company\" e nossas variáveis independentes (x) serão selecionadas no decorrer do processo de escolha do algoritmo."
      ]
    },
    {
      "cell_type": "markdown",
      "metadata": {
        "id": "4HQeHVsc7Syx",
        "colab_type": "text"
      },
      "source": [
        "#Transformando dados categóricos"
      ]
    },
    {
      "cell_type": "code",
      "metadata": {
        "id": "eT_jZReV0wUZ",
        "colab_type": "code",
        "colab": {}
      },
      "source": [
        "#transformando os dados categóricos em numéricos\n",
        "for column in data.columns:\n",
        "  if data[column].dtype != np.number:\n",
        "    data[column] = LabelEncoder().fit_transform(data[column])"
      ],
      "execution_count": 27,
      "outputs": []
    },
    {
      "cell_type": "markdown",
      "metadata": {
        "id": "MVg3tEaBPhy5",
        "colab_type": "text"
      },
      "source": [
        "# Baseline"
      ]
    },
    {
      "cell_type": "markdown",
      "metadata": {
        "id": "xMAbkB4ePj8H",
        "colab_type": "text"
      },
      "source": [
        "Irei fazer um modelo simples para tomar como base para futuros algoritmos. Se eu não conseguir ter uma acurácia melhor do que ele, significa que meu algoritmo não é apropriado. \n",
        "\n",
        "Ness caso, eu escolhi que o modelo baseline irá prever que todos os empregados não saírão da empresa e verificar sua acurácia."
      ]
    },
    {
      "cell_type": "markdown",
      "metadata": {
        "id": "3d4qT0qzqIwo",
        "colab_type": "text"
      },
      "source": [
        "## Divisão em treino e teste"
      ]
    },
    {
      "cell_type": "code",
      "metadata": {
        "id": "6eL4O1DxgXWl",
        "colab_type": "code",
        "colab": {
          "base_uri": "https://localhost:8080/",
          "height": 34
        },
        "outputId": "9848f600-97f0-44ff-e4f2-f9b0eb064906"
      },
      "source": [
        "x = data.drop('left_Company', axis = 1)\n",
        "y = data['left_Company']\n",
        "\n",
        "x_train, x_test, y_train, y_test = train_test_split(x, y, test_size = 0.3, random_state = 0)\n",
        "x_train.shape, y_train.shape, x_test.shape, y_test.shape"
      ],
      "execution_count": 28,
      "outputs": [
        {
          "output_type": "execute_result",
          "data": {
            "text/plain": [
              "((10499, 38), (10499,), (4500, 38), (4500,))"
            ]
          },
          "metadata": {
            "tags": []
          },
          "execution_count": 28
        }
      ]
    },
    {
      "cell_type": "code",
      "metadata": {
        "id": "5LeRODLDgsXB",
        "colab_type": "code",
        "colab": {}
      },
      "source": [
        "#selecionando 4500 zeros para ser minha previsão\n",
        "y_predict = np.zeros(4500)"
      ],
      "execution_count": 29,
      "outputs": []
    },
    {
      "cell_type": "code",
      "metadata": {
        "id": "xaunWg5ZuMUO",
        "colab_type": "code",
        "colab": {
          "base_uri": "https://localhost:8080/",
          "height": 34
        },
        "outputId": "53b87b56-6fed-4655-e256-61f7a744e6e8"
      },
      "source": [
        "y_predict[:5]"
      ],
      "execution_count": 30,
      "outputs": [
        {
          "output_type": "execute_result",
          "data": {
            "text/plain": [
              "array([0., 0., 0., 0., 0.])"
            ]
          },
          "metadata": {
            "tags": []
          },
          "execution_count": 30
        }
      ]
    },
    {
      "cell_type": "code",
      "metadata": {
        "id": "1Ye-9drpvbTV",
        "colab_type": "code",
        "colab": {
          "base_uri": "https://localhost:8080/",
          "height": 34
        },
        "outputId": "26567b2b-e4c4-462d-ab6e-da77c47ef13d"
      },
      "source": [
        "accuracy_score(y_test, y_predict)"
      ],
      "execution_count": 31,
      "outputs": [
        {
          "output_type": "execute_result",
          "data": {
            "text/plain": [
              "0.7697777777777778"
            ]
          },
          "metadata": {
            "tags": []
          },
          "execution_count": 31
        }
      ]
    },
    {
      "cell_type": "markdown",
      "metadata": {
        "id": "GQuCI4qUwlh0",
        "colab_type": "text"
      },
      "source": [
        "O baseline teve acurácia de 77%, então nos próximos modelos teremos que ter uma acurácia melhor do que essa."
      ]
    },
    {
      "cell_type": "markdown",
      "metadata": {
        "id": "wJYaME9fkuDc",
        "colab_type": "text"
      },
      "source": [
        "## O Modelo"
      ]
    },
    {
      "cell_type": "markdown",
      "metadata": {
        "id": "FXO-BBwhkzHN",
        "colab_type": "text"
      },
      "source": [
        "Escolhi a regressão logística como primeiro modelo, ela é uma técnica estatística utilizada na aprendizagem supervisionada para análise de dados com resultados binários (dicotômicos), e consiste em relacionar, por meio de um modelo, a variável resposta com os fatores que se relacionam com a ocorrência do resultado tendo como objetivo fazer previsão, classificação ou estudar o relacionamento entre as variáveis.\n",
        "\n",
        "Em Machine Learning, o algoritmo objetiva fazer classificação. Como a variável independente (y) tem apenas os valores 0 e 1, o valor previsto deve ser limitado para cair dentro do mesmo domínio. O resultado obtido com o algoritmo então é a probabilidade de ocorrência do evento de interesse (y = 1), a partir da qual será feita a classificação dos objetos. Se a probabilidade for baixa o objeto será classificado como 0, se for alta será classificado como 1.\n",
        "\n",
        "O desempenho do modelo de classificação pode ser mensurado pelas medidas usuais de acurácia, precisão e recall que são calculadas a partir da matriz de confusão, que organiza os resultados do modelo comparando-os com os resultados reais dos dados."
      ]
    },
    {
      "cell_type": "markdown",
      "metadata": {
        "id": "x4wM7WsxVVKX",
        "colab_type": "text"
      },
      "source": [
        "### Selecionando features"
      ]
    },
    {
      "cell_type": "markdown",
      "metadata": {
        "id": "e1ImnQbwVU4H",
        "colab_type": "text"
      },
      "source": [
        "Iremos selecionar somente as features com mais explicabilidade e menos complexibilidade para podermos ter um processo de treinamento do modelo rapidamente, com o mínimo de ruído possível e com alta acurácia. "
      ]
    },
    {
      "cell_type": "markdown",
      "metadata": {
        "id": "Rtsa4uktikdC",
        "colab_type": "text"
      },
      "source": [
        "O método Recursive Feature Elimination - como o próprio nome diz - cria o modelo a partir da exclusão de algumas features.\n",
        "\n",
        "Este método identifica a acurácia do modelo para assim escolher as melhores features e suas combinações que tornam o modelo mais eficiente."
      ]
    },
    {
      "cell_type": "code",
      "metadata": {
        "id": "fJ8N4R-Fs_Av",
        "colab_type": "code",
        "colab": {
          "base_uri": "https://localhost:8080/",
          "height": 51
        },
        "outputId": "051fe460-8bbe-497d-8ddb-b86460e86b9b"
      },
      "source": [
        "from sklearn.linear_model import LogisticRegression\n",
        "from sklearn.feature_selection import RFE\n",
        "\n",
        "lr = LogisticRegression(max_iter=2000)\n",
        "rfe = RFE(lr,22)\n",
        "features = rfe.fit(x_train, y_train) #treinando\n",
        "\n",
        "print('o número de features é: {}'.format(features.n_features_))\n",
        "\n",
        "y_predict = features.predict(x_test) #predição\n",
        "print('A acurácia é: {}'.format(accuracy_score(y_test, y_predict)*100))"
      ],
      "execution_count": 32,
      "outputs": [
        {
          "output_type": "stream",
          "text": [
            "o número de features é: 22\n",
            "A acurácia é: 89.88888888888889\n"
          ],
          "name": "stdout"
        }
      ]
    },
    {
      "cell_type": "code",
      "metadata": {
        "id": "culENDpkfy89",
        "colab_type": "code",
        "colab": {
          "base_uri": "https://localhost:8080/",
          "height": 439
        },
        "outputId": "1865150d-9998-4134-bbc8-ca8c3184aff0"
      },
      "source": [
        "#visualizando as colunas geradas\n",
        "cols = features.get_support(indices=True)\n",
        "data.iloc[:,cols]"
      ],
      "execution_count": 33,
      "outputs": [
        {
          "output_type": "execute_result",
          "data": {
            "text/html": [
              "<div>\n",
              "<style scoped>\n",
              "    .dataframe tbody tr th:only-of-type {\n",
              "        vertical-align: middle;\n",
              "    }\n",
              "\n",
              "    .dataframe tbody tr th {\n",
              "        vertical-align: top;\n",
              "    }\n",
              "\n",
              "    .dataframe thead th {\n",
              "        text-align: right;\n",
              "    }\n",
              "</style>\n",
              "<table border=\"1\" class=\"dataframe\">\n",
              "  <thead>\n",
              "    <tr style=\"text-align: right;\">\n",
              "      <th></th>\n",
              "      <th>Role</th>\n",
              "      <th>Will_Relocate</th>\n",
              "      <th>Percent_Remote</th>\n",
              "      <th>EMP_Sat_Remote_1</th>\n",
              "      <th>EMP_Sat_Remote_2</th>\n",
              "      <th>EMP_Sat_Remote_5</th>\n",
              "      <th>last_evaluation</th>\n",
              "      <th>number_project</th>\n",
              "      <th>time_spend_company</th>\n",
              "      <th>Work_accident</th>\n",
              "      <th>left_Company</th>\n",
              "      <th>promotion_last_5years</th>\n",
              "      <th>salary</th>\n",
              "      <th>Emp_Work_Status_5</th>\n",
              "      <th>Emp_Identity</th>\n",
              "      <th>Emp_Role</th>\n",
              "      <th>Emp_Position</th>\n",
              "      <th>Emp_Title</th>\n",
              "      <th>Emp_Competitive_2</th>\n",
              "      <th>Emp_Collaborative_1</th>\n",
              "      <th>Sensor_StepCount</th>\n",
              "      <th>Sensor_Heartbeat(Average/Min)</th>\n",
              "    </tr>\n",
              "  </thead>\n",
              "  <tbody>\n",
              "    <tr>\n",
              "      <th>0</th>\n",
              "      <td>6</td>\n",
              "      <td>0</td>\n",
              "      <td>0.4</td>\n",
              "      <td>0</td>\n",
              "      <td>0</td>\n",
              "      <td>0</td>\n",
              "      <td>0.36</td>\n",
              "      <td>1</td>\n",
              "      <td>1</td>\n",
              "      <td>1</td>\n",
              "      <td>0</td>\n",
              "      <td>0</td>\n",
              "      <td>1</td>\n",
              "      <td>0</td>\n",
              "      <td>0</td>\n",
              "      <td>0</td>\n",
              "      <td>1</td>\n",
              "      <td>0</td>\n",
              "      <td>3</td>\n",
              "      <td>1</td>\n",
              "      <td>836</td>\n",
              "      <td>1</td>\n",
              "    </tr>\n",
              "    <tr>\n",
              "      <th>1</th>\n",
              "      <td>4</td>\n",
              "      <td>0</td>\n",
              "      <td>0.4</td>\n",
              "      <td>0</td>\n",
              "      <td>0</td>\n",
              "      <td>0</td>\n",
              "      <td>0.36</td>\n",
              "      <td>3</td>\n",
              "      <td>0</td>\n",
              "      <td>0</td>\n",
              "      <td>0</td>\n",
              "      <td>0</td>\n",
              "      <td>1</td>\n",
              "      <td>2</td>\n",
              "      <td>1</td>\n",
              "      <td>0</td>\n",
              "      <td>1</td>\n",
              "      <td>0</td>\n",
              "      <td>1</td>\n",
              "      <td>2</td>\n",
              "      <td>985</td>\n",
              "      <td>26</td>\n",
              "    </tr>\n",
              "    <tr>\n",
              "      <th>2</th>\n",
              "      <td>4</td>\n",
              "      <td>0</td>\n",
              "      <td>0.4</td>\n",
              "      <td>0</td>\n",
              "      <td>0</td>\n",
              "      <td>0</td>\n",
              "      <td>0.36</td>\n",
              "      <td>0</td>\n",
              "      <td>1</td>\n",
              "      <td>0</td>\n",
              "      <td>0</td>\n",
              "      <td>0</td>\n",
              "      <td>2</td>\n",
              "      <td>2</td>\n",
              "      <td>0</td>\n",
              "      <td>0</td>\n",
              "      <td>1</td>\n",
              "      <td>1</td>\n",
              "      <td>4</td>\n",
              "      <td>1</td>\n",
              "      <td>1943</td>\n",
              "      <td>20</td>\n",
              "    </tr>\n",
              "    <tr>\n",
              "      <th>3</th>\n",
              "      <td>4</td>\n",
              "      <td>0</td>\n",
              "      <td>0.4</td>\n",
              "      <td>0</td>\n",
              "      <td>0</td>\n",
              "      <td>0</td>\n",
              "      <td>0.36</td>\n",
              "      <td>2</td>\n",
              "      <td>2</td>\n",
              "      <td>1</td>\n",
              "      <td>0</td>\n",
              "      <td>0</td>\n",
              "      <td>0</td>\n",
              "      <td>4</td>\n",
              "      <td>1</td>\n",
              "      <td>0</td>\n",
              "      <td>1</td>\n",
              "      <td>0</td>\n",
              "      <td>0</td>\n",
              "      <td>0</td>\n",
              "      <td>1980</td>\n",
              "      <td>17</td>\n",
              "    </tr>\n",
              "    <tr>\n",
              "      <th>4</th>\n",
              "      <td>0</td>\n",
              "      <td>0</td>\n",
              "      <td>0.4</td>\n",
              "      <td>0</td>\n",
              "      <td>0</td>\n",
              "      <td>0</td>\n",
              "      <td>0.36</td>\n",
              "      <td>4</td>\n",
              "      <td>3</td>\n",
              "      <td>0</td>\n",
              "      <td>0</td>\n",
              "      <td>0</td>\n",
              "      <td>1</td>\n",
              "      <td>4</td>\n",
              "      <td>0</td>\n",
              "      <td>0</td>\n",
              "      <td>1</td>\n",
              "      <td>0</td>\n",
              "      <td>3</td>\n",
              "      <td>4</td>\n",
              "      <td>1907</td>\n",
              "      <td>20</td>\n",
              "    </tr>\n",
              "    <tr>\n",
              "      <th>...</th>\n",
              "      <td>...</td>\n",
              "      <td>...</td>\n",
              "      <td>...</td>\n",
              "      <td>...</td>\n",
              "      <td>...</td>\n",
              "      <td>...</td>\n",
              "      <td>...</td>\n",
              "      <td>...</td>\n",
              "      <td>...</td>\n",
              "      <td>...</td>\n",
              "      <td>...</td>\n",
              "      <td>...</td>\n",
              "      <td>...</td>\n",
              "      <td>...</td>\n",
              "      <td>...</td>\n",
              "      <td>...</td>\n",
              "      <td>...</td>\n",
              "      <td>...</td>\n",
              "      <td>...</td>\n",
              "      <td>...</td>\n",
              "      <td>...</td>\n",
              "      <td>...</td>\n",
              "    </tr>\n",
              "    <tr>\n",
              "      <th>14994</th>\n",
              "      <td>2</td>\n",
              "      <td>1</td>\n",
              "      <td>1.0</td>\n",
              "      <td>2</td>\n",
              "      <td>1</td>\n",
              "      <td>1</td>\n",
              "      <td>1.00</td>\n",
              "      <td>2</td>\n",
              "      <td>3</td>\n",
              "      <td>0</td>\n",
              "      <td>1</td>\n",
              "      <td>0</td>\n",
              "      <td>2</td>\n",
              "      <td>1</td>\n",
              "      <td>1</td>\n",
              "      <td>0</td>\n",
              "      <td>1</td>\n",
              "      <td>0</td>\n",
              "      <td>0</td>\n",
              "      <td>3</td>\n",
              "      <td>533</td>\n",
              "      <td>24</td>\n",
              "    </tr>\n",
              "    <tr>\n",
              "      <th>14995</th>\n",
              "      <td>2</td>\n",
              "      <td>1</td>\n",
              "      <td>1.0</td>\n",
              "      <td>2</td>\n",
              "      <td>1</td>\n",
              "      <td>1</td>\n",
              "      <td>1.00</td>\n",
              "      <td>2</td>\n",
              "      <td>3</td>\n",
              "      <td>0</td>\n",
              "      <td>1</td>\n",
              "      <td>0</td>\n",
              "      <td>2</td>\n",
              "      <td>3</td>\n",
              "      <td>0</td>\n",
              "      <td>1</td>\n",
              "      <td>1</td>\n",
              "      <td>0</td>\n",
              "      <td>4</td>\n",
              "      <td>2</td>\n",
              "      <td>246</td>\n",
              "      <td>25</td>\n",
              "    </tr>\n",
              "    <tr>\n",
              "      <th>14996</th>\n",
              "      <td>2</td>\n",
              "      <td>0</td>\n",
              "      <td>1.0</td>\n",
              "      <td>2</td>\n",
              "      <td>1</td>\n",
              "      <td>1</td>\n",
              "      <td>1.00</td>\n",
              "      <td>3</td>\n",
              "      <td>3</td>\n",
              "      <td>0</td>\n",
              "      <td>1</td>\n",
              "      <td>0</td>\n",
              "      <td>1</td>\n",
              "      <td>4</td>\n",
              "      <td>0</td>\n",
              "      <td>0</td>\n",
              "      <td>1</td>\n",
              "      <td>0</td>\n",
              "      <td>1</td>\n",
              "      <td>3</td>\n",
              "      <td>155</td>\n",
              "      <td>24</td>\n",
              "    </tr>\n",
              "    <tr>\n",
              "      <th>14997</th>\n",
              "      <td>2</td>\n",
              "      <td>0</td>\n",
              "      <td>1.0</td>\n",
              "      <td>2</td>\n",
              "      <td>1</td>\n",
              "      <td>1</td>\n",
              "      <td>1.00</td>\n",
              "      <td>3</td>\n",
              "      <td>4</td>\n",
              "      <td>0</td>\n",
              "      <td>1</td>\n",
              "      <td>0</td>\n",
              "      <td>2</td>\n",
              "      <td>1</td>\n",
              "      <td>0</td>\n",
              "      <td>1</td>\n",
              "      <td>0</td>\n",
              "      <td>0</td>\n",
              "      <td>0</td>\n",
              "      <td>1</td>\n",
              "      <td>210</td>\n",
              "      <td>22</td>\n",
              "    </tr>\n",
              "    <tr>\n",
              "      <th>14998</th>\n",
              "      <td>2</td>\n",
              "      <td>1</td>\n",
              "      <td>1.0</td>\n",
              "      <td>2</td>\n",
              "      <td>1</td>\n",
              "      <td>1</td>\n",
              "      <td>1.00</td>\n",
              "      <td>0</td>\n",
              "      <td>3</td>\n",
              "      <td>0</td>\n",
              "      <td>1</td>\n",
              "      <td>0</td>\n",
              "      <td>1</td>\n",
              "      <td>0</td>\n",
              "      <td>1</td>\n",
              "      <td>1</td>\n",
              "      <td>1</td>\n",
              "      <td>0</td>\n",
              "      <td>2</td>\n",
              "      <td>1</td>\n",
              "      <td>634</td>\n",
              "      <td>22</td>\n",
              "    </tr>\n",
              "  </tbody>\n",
              "</table>\n",
              "<p>14999 rows × 22 columns</p>\n",
              "</div>"
            ],
            "text/plain": [
              "       Role  Will_Relocate  ...  Sensor_StepCount  Sensor_Heartbeat(Average/Min)\n",
              "0         6              0  ...               836                              1\n",
              "1         4              0  ...               985                             26\n",
              "2         4              0  ...              1943                             20\n",
              "3         4              0  ...              1980                             17\n",
              "4         0              0  ...              1907                             20\n",
              "...     ...            ...  ...               ...                            ...\n",
              "14994     2              1  ...               533                             24\n",
              "14995     2              1  ...               246                             25\n",
              "14996     2              0  ...               155                             24\n",
              "14997     2              0  ...               210                             22\n",
              "14998     2              1  ...               634                             22\n",
              "\n",
              "[14999 rows x 22 columns]"
            ]
          },
          "metadata": {
            "tags": []
          },
          "execution_count": 33
        }
      ]
    },
    {
      "cell_type": "code",
      "metadata": {
        "id": "WVgRb7y4byGb",
        "colab_type": "code",
        "colab": {}
      },
      "source": [
        "#selecionando as novas features\n",
        "x = data.iloc[:,cols].drop('left_Company', axis = 1)"
      ],
      "execution_count": 34,
      "outputs": []
    },
    {
      "cell_type": "code",
      "metadata": {
        "id": "5kPluR4Q65pW",
        "colab_type": "code",
        "colab": {
          "base_uri": "https://localhost:8080/",
          "height": 51
        },
        "outputId": "84d6818c-6963-4fc1-d140-f2341b2789bf"
      },
      "source": [
        "#matriz de confusão\n",
        "confusion_matrix = confusion_matrix(y_test, y_predict)\n",
        "confusion_matrix"
      ],
      "execution_count": 35,
      "outputs": [
        {
          "output_type": "execute_result",
          "data": {
            "text/plain": [
              "array([[3305,  159],\n",
              "       [ 296,  740]])"
            ]
          },
          "metadata": {
            "tags": []
          },
          "execution_count": 35
        }
      ]
    },
    {
      "cell_type": "markdown",
      "metadata": {
        "id": "ZeZ6KHci_G5o",
        "colab_type": "text"
      },
      "source": [
        "A matriz de confusão retornou 3.302 valores verdadeiro positivo e 746 verdadeiro negativo, a soma desses valores foi o total de valores que meu modelo acertou (4.048).\n",
        "\n",
        "O recall é uma métrica que nos diz qual a proporção de positivos foram identificados corretamente. Para sabermos esse valor basta fazer a divisão dos valores verdadeiros positivos com a soma dos valores verdadeiros positivos e falsos negativos. \n",
        "\n",
        "Já para sabermos a precisão, que é a proporção de identificações positivas que  foram realmente corretas, precisamos fazer a divisão dos verdadeiros positivos pela soma dos verdadeiros positivos com os falsos positivos.\n",
        "\n"
      ]
    },
    {
      "cell_type": "code",
      "metadata": {
        "id": "hnpm16NgOG63",
        "colab_type": "code",
        "colab": {
          "base_uri": "https://localhost:8080/",
          "height": 51
        },
        "outputId": "4c3f0881-6255-4a9d-d525-df259d19e187"
      },
      "source": [
        "recall = 3365 / (3365 + 504)\n",
        "precision = 3365 / (3365 + 99)\n",
        "print('Recall: {}'.format(recall))\n",
        "print('Precisão: {}'.format(precision))"
      ],
      "execution_count": 36,
      "outputs": [
        {
          "output_type": "stream",
          "text": [
            "Recall: 0.8697337813388473\n",
            "Precisão: 0.9714203233256351\n"
          ],
          "name": "stdout"
        }
      ]
    },
    {
      "cell_type": "markdown",
      "metadata": {
        "id": "6ZgS3aO3w26V",
        "colab_type": "text"
      },
      "source": [
        "# Gerando vários modelos de Machine Learning"
      ]
    },
    {
      "cell_type": "markdown",
      "metadata": {
        "id": "pynlKQVYnX6-",
        "colab_type": "text"
      },
      "source": [
        "Apliquei Pipelines para otimizar o trabalho e selecionar e validar os modelos escolhidos. Além de que, o uso de Pipelines facilita o entedimento dos processos feitos e sua manutenção.\n",
        "\n",
        "Utilizei o método StratifiedKFold para que as categoricas sejam estratificadas, ou seja, os valores tenham proporções iguais. Além disso, passei como parâmetro o n_splits = 5 que divide os dados em \"folds\" e faz que o fold 1 seja treinado com os folds 2 a 5, o fold 2 é treinado com o fold 1,3,4,5 e assim sucessivamente. Dessa maneira, teremos 5 métricas com diferentes amostras!\n",
        "Adicionado a isso, usei o parâmetro \"shuffle = True\" que faz com que as amostras se misturem. Feito isto, a atribuo a uma variável \"cv\" que será usada adiante no Cross-Validation.\n",
        "\n",
        "Em cada Pipeline eu fiz o seguinte processo:\n",
        "\n",
        "1. Escalei os dados com StandardScaler()\n",
        "2. Setei o Modelo de Machine Learning\n",
        "\n",
        "Feito isto, eu prossigo:\n",
        "\n",
        "3. Treinei e testei meus dados pela validação cruzada com 2 diferentes avaliadores de modelos\n",
        "4. Adicionei o valor da acurácia à lista \"metrica\" criada anteriormente.\n",
        "\n",
        "OBS: a acurácia é medida através de Cross-Validation que é uma técnica para saber se meu modelo consegue generalizar para diversas amostras. Como parâmetro eu passo o pipeline, as variáveis explicativas e a dependente, o  StratifiedKFold que já foi explicado e o último parâmetro scoring='accuracy' e scoring='recall' são as métricas utilizadas para o modelo. O próprio modelo separa em treino e teste como dito anteriormente.\n"
      ]
    },
    {
      "cell_type": "code",
      "metadata": {
        "id": "bYZynKo781q3",
        "colab_type": "code",
        "colab": {}
      },
      "source": [
        "from sklearn.naive_bayes import GaussianNB\n",
        "from sklearn.ensemble import RandomForestClassifier\n",
        "from sklearn.tree import DecisionTreeClassifier"
      ],
      "execution_count": 37,
      "outputs": []
    },
    {
      "cell_type": "code",
      "metadata": {
        "id": "mn_8lrftsngo",
        "colab_type": "code",
        "colab": {}
      },
      "source": [
        "metrica = []\n",
        "\n",
        "cv = StratifiedKFold(n_splits = 5, shuffle = True)\n",
        "\n",
        "pip1 = Pipeline([\n",
        "                 ('scaler', StandardScaler()),\n",
        "                 ('LR', LogisticRegression())\n",
        "])\n",
        "validation1 = cross_val_score(pip1, x, y, cv = cv, scoring='accuracy')\n",
        "validation2 = cross_val_score(pip1, x, y, cv = cv, scoring='recall')\n",
        "\n",
        "metrica.append({'Accuracy': np.mean(validation1),\n",
        "                'Recall': np.mean(validation2)})\n",
        "\n",
        "pip2 = Pipeline([\n",
        "                 ('scaler', StandardScaler()),\n",
        "                 ('NB', GaussianNB())\n",
        "])\n",
        "validation1 = cross_val_score(pip2, x, y, cv = cv, scoring='accuracy')\n",
        "validation2 = cross_val_score(pip1, x, y, cv = cv, scoring='recall')\n",
        "\n",
        "metrica.append({'Accuracy': np.mean(validation1),\n",
        "                'Recall': np.mean(validation2)})\n",
        "\n",
        "pip3 = Pipeline([\n",
        "                 ('scaler', StandardScaler()),\n",
        "                 ('RFC', RandomForestClassifier(n_estimators=1000, max_features=8))\n",
        "])\n",
        "validation1 = cross_val_score(pip3, x, y, cv = cv, scoring='accuracy')\n",
        "validation2 = cross_val_score(pip1, x, y, cv = cv, scoring='recall')\n",
        "\n",
        "metrica.append({'Accuracy': np.mean(validation1),\n",
        "                'Recall': np.mean(validation2)})\n",
        "\n",
        "pip4 = Pipeline([\n",
        "                 ('scaler', StandardScaler()),\n",
        "                 ('DTC', DecisionTreeClassifier(max_depth=3))\n",
        "])\n",
        "validation1 = cross_val_score(pip4, x, y, cv = cv, scoring='accuracy')\n",
        "validation2 = cross_val_score(pip1, x, y, cv = cv, scoring='recall')\n",
        "\n",
        "metrica.append({'Accuracy': np.mean(validation1),\n",
        "                'Recall': np.mean(validation2)})"
      ],
      "execution_count": 38,
      "outputs": []
    },
    {
      "cell_type": "markdown",
      "metadata": {
        "id": "mt1pXD59mIRo",
        "colab_type": "text"
      },
      "source": [
        "Processo concluído, abaixo eu fiz um loop mostrando o modelo e a acurácia de cada um dos Pipelines.\n",
        "\n",
        "Obs: O modelo de Regressão Logística deu acurácia diferente da primeiro vez pois aqui eu estou usando a validação cruzada enquanto que inicialmente eu usei somente uma amostra para medir a acurácia."
      ]
    },
    {
      "cell_type": "code",
      "metadata": {
        "id": "diq8IP-Yu6BZ",
        "colab_type": "code",
        "colab": {
          "base_uri": "https://localhost:8080/",
          "height": 85
        },
        "outputId": "f6352281-1251-4b76-dc44-c8eeff07c4b9"
      },
      "source": [
        "models = ['RegressãoLogística','NaiveBayes','RandomForest','DecisionTree'] #criando label\n",
        "\n",
        "for model, metricas in zip(models, metrica):\n",
        "    print(model, ':', metricas)"
      ],
      "execution_count": 39,
      "outputs": [
        {
          "output_type": "stream",
          "text": [
            "RegressãoLogística : {'Accuracy': 0.8963262198510614, 'Recall': 0.7328495034377388}\n",
            "NaiveBayes : {'Accuracy': 0.7283160164499278, 'Recall': 0.7303281032692797}\n",
            "RandomForest : {'Accuracy': 0.9910661331554962, 'Recall': 0.7314473761532586}\n",
            "DecisionTree : {'Accuracy': 0.9738648882960987, 'Recall': 0.7331256978315801}\n"
          ],
          "name": "stdout"
        }
      ]
    },
    {
      "cell_type": "markdown",
      "metadata": {
        "id": "xY2xHi58doXY",
        "colab_type": "text"
      },
      "source": [
        "# Conclusão"
      ]
    },
    {
      "cell_type": "markdown",
      "metadata": {
        "id": "dqg6PaFjdsho",
        "colab_type": "text"
      },
      "source": [
        "A área de Recursos Humanos vêm cada vez se apropriando mais de técnicas de Data Science para aprimorar seu negócio, através dessas técnicas é possível analisar grandes quantidades de dados e não só melhorar os recrutamentos de novos funcionários como também aperfeiçoar a demição de funcionários improdutivos, entre outras possibilidades.\n",
        "\n",
        "Inicialmente foi feita a análise de dados onde percebemos que havia vários valores nulos no dataset, então limpamos e notamos que havia vários atributos que não nos traziam muita informação a respeito da variável alvo, em seguida as excluímos e fomos adiante fazendo análise descritiva e de forma visual para facilitar o entedimento.\n",
        "\n",
        "Após termos conhecimento do dataset, foi possível utilizar Machine Learning que é uma técnica de Data Science muito conhecida e útil para predição, sendo assim, eu criei um problema de classificação, onde eu queria prever se um funcionário vai ou não continuar na empresa e através do modelo Random Forest consegui uma acurácia de 99% mas com um recall não tão bom de aproximadamente 73%.\n",
        "\n",
        "Em suma, os dados estão cada vez mais presentes em todas as áreas e a têndencia é de aumento, então saber trabalhar com esses dados é de extrema importância. Espero ter atingido a proposta deste desafio através das explicações e códigos apresentados neste notebook. Obrigado."
      ]
    },
    {
      "cell_type": "code",
      "metadata": {
        "id": "ztPV6cFRCigE",
        "colab_type": "code",
        "colab": {}
      },
      "source": [
        ""
      ],
      "execution_count": null,
      "outputs": []
    }
  ]
}